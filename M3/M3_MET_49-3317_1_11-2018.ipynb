{
 "cells": [
  {
   "cell_type": "markdown",
   "id": "22dd9327",
   "metadata": {},
   "source": [
    "## Weight dist.\n",
    "- Loading the dataset : 5%\n",
    "- Basic cleaning: 30%\n",
    "\t- column renaming: 10%\n",
    "\t- detect missing: 35%\n",
    "\t- Handle missing: 35%\n",
    "\t- Check missing : 20%\n",
    "- Analyses: 30%\n",
    "- Encoding: 20%\n",
    "- Lookup table: 10%\n",
    "- Writing the cleaned and lookup table back as parquet and csv files: 5%."
   ]
  },
  {
   "cell_type": "markdown",
   "id": "373d9b0c",
   "metadata": {},
   "source": [
    "# Tasks:"
   ]
  },
  {
   "cell_type": "code",
   "execution_count": 171,
   "id": "southern-landing",
   "metadata": {
    "ExecuteTime": {
     "end_time": "2023-12-10T19:34:50.980296Z",
     "start_time": "2023-12-10T19:34:50.916531Z"
    }
   },
   "outputs": [],
   "source": [
    "from pyspark.sql import SparkSession\n",
    "spark = SparkSession.builder.appName(\"Milestone3\").getOrCreate()\n",
    "sc = spark.sparkContext\n",
    "from pyspark.sql.functions import col, when, unix_timestamp, round, date_format, ceil, dayofmonth, avg, count, lit, asc\n",
    "from pyspark.sql.types import DoubleType, FloatType, IntegerType, LongType, ShortType, StringType\n",
    "from pyspark.ml.feature import StringIndexer\n",
    "from pyspark.ml import Pipeline\n",
    "import os"
   ]
  },
  {
   "cell_type": "markdown",
   "id": "ec70f372",
   "metadata": {},
   "source": [
    "# Milestone 3 - Pre-processing and analysis with PySpark\n",
    "\n",
    "## Deadline - Sunday, 10th of December @11.59 pm \n",
    "\n",
    "The goal of this milestone is to preprocess the dataset 'New York yellow taxis' by performing basic data preparation and basic analysis to gain a better understanding of the data using PySpark.\n",
    "\n",
    "Use the same month and year you used for the green taxis in milestone 1. [Datasets](https://drive.google.com/drive/folders/1t8nBgbHVaA5roZY4z3RcAG1_JMYlSTqu?usp=sharing) (download the yellow taxis dataset).\n",
    "\n",
    "Important Notes:\n",
    "- You MUST use this notebook template/structure. not doing so will result in marks deduction.\n",
    "- You MUST have the cells run and output shown similar to milestone 1. I will NOT RUN YOUR NOTEBOOK.\n",
    "\n",
    "Submission guidelines: same as milestone 1.\n",
    "\n",
    "Notebook name must be same format as the file you named in miletsone 1. Just M3 instead of M1.\n",
    "\n",
    "IMPORTANT: You are only allowed to use PySpark unless explicitly told otherwise(i.e last task).\n",
    "\n",
    "Useful resource/documentation (highly recommended) - [PySpark examples](https://sparkbyexamples.com/pyspark-tutorial/)\n"
   ]
  },
  {
   "cell_type": "markdown",
   "id": "dd35a7dc",
   "metadata": {},
   "source": [
    "## Load the dataset."
   ]
  },
  {
   "cell_type": "code",
   "execution_count": 172,
   "id": "3efa26f4",
   "metadata": {
    "ExecuteTime": {
     "end_time": "2023-12-10T19:34:51.346425Z",
     "start_time": "2023-12-10T19:34:50.985349Z"
    }
   },
   "outputs": [],
   "source": [
    "df_trip_original = spark.read.parquet(\"datasets/yellow_tripdata_2018-11.parquet\")"
   ]
  },
  {
   "cell_type": "code",
   "execution_count": 173,
   "id": "050e3822",
   "metadata": {
    "ExecuteTime": {
     "end_time": "2023-12-10T19:34:51.353825Z",
     "start_time": "2023-12-10T19:34:51.349892Z"
    }
   },
   "outputs": [],
   "source": [
    "df_trip = df_trip_original"
   ]
  },
  {
   "cell_type": "code",
   "execution_count": 174,
   "id": "painful-cancellation",
   "metadata": {
    "ExecuteTime": {
     "end_time": "2023-12-10T19:34:52.297685Z",
     "start_time": "2023-12-10T19:34:51.358583Z"
    }
   },
   "outputs": [
    {
     "name": "stdout",
     "output_type": "stream",
     "text": [
      "+--------------------+--------------------+---------------------+---------------+-------------+-------------+------------------+--------------------+--------------------+------------+-----------+-----+-------+----------+------------+---------------------+------------+--------------------+-----------+\n",
      "|              Vendor|tpep_pickup_datetime|tpep_dropoff_datetime|passenger_count|trip_distance|    Rate_type|store_and_fwd_flag|         PU_Location|         DO_Location|payment_type|fare_amount|extra|mta_tax|tip_amount|tolls_amount|improvement_surcharge|total_amount|congestion_surcharge|airport_fee|\n",
      "+--------------------+--------------------+---------------------+---------------+-------------+-------------+------------------+--------------------+--------------------+------------+-----------+-----+-------+----------+------------+---------------------+------------+--------------------+-----------+\n",
      "|Creative Mobile T...| 2018-11-01 01:51:36|  2018-11-01 01:52:36|            1.0|          0.0|Standard rate|                 N|Queens,Long Islan...|Queens,Long Islan...|        Cash|        2.5|  0.5|    0.5|       0.0|         0.0|                  0.3|         3.8|                null|       null|\n",
      "+--------------------+--------------------+---------------------+---------------+-------------+-------------+------------------+--------------------+--------------------+------------+-----------+-----+-------+----------+------------+---------------------+------------+--------------------+-----------+\n",
      "only showing top 1 row\n",
      "\n"
     ]
    }
   ],
   "source": [
    "df_same_location = df_trip_original.where(df_trip_original.PU_Location == df_trip_original.DO_Location)\n",
    "df_same_location.show(1)"
   ]
  },
  {
   "cell_type": "markdown",
   "id": "f7eb86a5",
   "metadata": {},
   "source": [
    "### Preview first 20 rows."
   ]
  },
  {
   "cell_type": "code",
   "execution_count": 175,
   "id": "0fa27dab",
   "metadata": {
    "ExecuteTime": {
     "end_time": "2023-12-10T19:34:53.489207Z",
     "start_time": "2023-12-10T19:34:52.300185Z"
    }
   },
   "outputs": [
    {
     "name": "stdout",
     "output_type": "stream",
     "text": [
      "-RECORD 0-------------------------------------\n",
      " Vendor                | Creative Mobile T... \n",
      " tpep_pickup_datetime  | 2018-11-01 01:51:36  \n",
      " tpep_dropoff_datetime | 2018-11-01 01:52:36  \n",
      " passenger_count       | 1.0                  \n",
      " trip_distance         | 0.0                  \n",
      " Rate_type             | Standard rate        \n",
      " store_and_fwd_flag    | N                    \n",
      " PU_Location           | Queens,Long Islan... \n",
      " DO_Location           | Queens,Long Islan... \n",
      " payment_type          | Cash                 \n",
      " fare_amount           | 2.5                  \n",
      " extra                 | 0.5                  \n",
      " mta_tax               | 0.5                  \n",
      " tip_amount            | 0.0                  \n",
      " tolls_amount          | 0.0                  \n",
      " improvement_surcharge | 0.3                  \n",
      " total_amount          | 3.8                  \n",
      " congestion_surcharge  | null                 \n",
      " airport_fee           | null                 \n",
      "-RECORD 1-------------------------------------\n",
      " Vendor                | Creative Mobile T... \n",
      " tpep_pickup_datetime  | 2018-11-01 01:07:47  \n",
      " tpep_dropoff_datetime | 2018-11-01 01:21:43  \n",
      " passenger_count       | 1.0                  \n",
      " trip_distance         | 2.3                  \n",
      " Rate_type             | Standard rate        \n",
      " store_and_fwd_flag    | N                    \n",
      " PU_Location           | Manhattan,Lincoln... \n",
      " DO_Location           | Manhattan,Midtown... \n",
      " payment_type          | Credit card          \n",
      " fare_amount           | 11.0                 \n",
      " extra                 | 0.5                  \n",
      " mta_tax               | 0.5                  \n",
      " tip_amount            | 2.45                 \n",
      " tolls_amount          | 0.0                  \n",
      " improvement_surcharge | 0.3                  \n",
      " total_amount          | 14.75                \n",
      " congestion_surcharge  | null                 \n",
      " airport_fee           | null                 \n",
      "-RECORD 2-------------------------------------\n",
      " Vendor                | Creative Mobile T... \n",
      " tpep_pickup_datetime  | 2018-11-01 01:24:27  \n",
      " tpep_dropoff_datetime | 2018-11-01 01:34:29  \n",
      " passenger_count       | 1.0                  \n",
      " trip_distance         | 1.8                  \n",
      " Rate_type             | Standard rate        \n",
      " store_and_fwd_flag    | N                    \n",
      " PU_Location           | Manhattan,Midtown... \n",
      " DO_Location           | Manhattan,Clinton... \n",
      " payment_type          | Cash                 \n",
      " fare_amount           | 8.5                  \n",
      " extra                 | 0.5                  \n",
      " mta_tax               | 0.5                  \n",
      " tip_amount            | 0.0                  \n",
      " tolls_amount          | 0.0                  \n",
      " improvement_surcharge | 0.3                  \n",
      " total_amount          | 9.8                  \n",
      " congestion_surcharge  | null                 \n",
      " airport_fee           | null                 \n",
      "-RECORD 3-------------------------------------\n",
      " Vendor                | Creative Mobile T... \n",
      " tpep_pickup_datetime  | 2018-11-01 01:35:27  \n",
      " tpep_dropoff_datetime | 2018-11-01 01:47:02  \n",
      " passenger_count       | 1.0                  \n",
      " trip_distance         | 2.3                  \n",
      " Rate_type             | Standard rate        \n",
      " store_and_fwd_flag    | N                    \n",
      " PU_Location           | Manhattan,Clinton... \n",
      " DO_Location           | Manhattan,Gramercy   \n",
      " payment_type          | Credit card          \n",
      " fare_amount           | 10.0                 \n",
      " extra                 | 0.5                  \n",
      " mta_tax               | 0.5                  \n",
      " tip_amount            | 3.35                 \n",
      " tolls_amount          | 0.0                  \n",
      " improvement_surcharge | 0.3                  \n",
      " total_amount          | 14.65                \n",
      " congestion_surcharge  | null                 \n",
      " airport_fee           | null                 \n",
      "-RECORD 4-------------------------------------\n",
      " Vendor                | Creative Mobile T... \n",
      " tpep_pickup_datetime  | 2018-11-01 01:16:46  \n",
      " tpep_dropoff_datetime | 2018-11-01 01:22:50  \n",
      " passenger_count       | 1.0                  \n",
      " trip_distance         | 1.0                  \n",
      " Rate_type             | Standard rate        \n",
      " store_and_fwd_flag    | N                    \n",
      " PU_Location           | Manhattan,Midtown... \n",
      " DO_Location           | Manhattan,Murray ... \n",
      " payment_type          | Cash                 \n",
      " fare_amount           | 6.0                  \n",
      " extra                 | 0.5                  \n",
      " mta_tax               | 0.5                  \n",
      " tip_amount            | 0.0                  \n",
      " tolls_amount          | 0.0                  \n",
      " improvement_surcharge | 0.3                  \n",
      " total_amount          | 7.3                  \n",
      " congestion_surcharge  | null                 \n",
      " airport_fee           | null                 \n",
      "-RECORD 5-------------------------------------\n",
      " Vendor                | Creative Mobile T... \n",
      " tpep_pickup_datetime  | 2018-11-01 01:23:57  \n",
      " tpep_dropoff_datetime | 2018-11-01 01:34:29  \n",
      " passenger_count       | 1.0                  \n",
      " trip_distance         | 2.1                  \n",
      " Rate_type             | Standard rate        \n",
      " store_and_fwd_flag    | N                    \n",
      " PU_Location           | Manhattan,Murray ... \n",
      " DO_Location           | Manhattan,East Vi... \n",
      " payment_type          | null                 \n",
      " fare_amount           | 9.0                  \n",
      " extra                 | 0.5                  \n",
      " mta_tax               | 0.5                  \n",
      " tip_amount            | 0.0                  \n",
      " tolls_amount          | 0.0                  \n",
      " improvement_surcharge | 0.3                  \n",
      " total_amount          | 10.3                 \n",
      " congestion_surcharge  | null                 \n",
      " airport_fee           | null                 \n",
      "-RECORD 6-------------------------------------\n",
      " Vendor                | Creative Mobile T... \n",
      " tpep_pickup_datetime  | 2018-11-01 01:57:07  \n",
      " tpep_dropoff_datetime | 2018-11-01 02:05:27  \n",
      " passenger_count       | 1.0                  \n",
      " trip_distance         | 1.6                  \n",
      " Rate_type             | Standard rate        \n",
      " store_and_fwd_flag    | N                    \n",
      " PU_Location           | Manhattan,Lower E... \n",
      " DO_Location           | Manhattan,East Vi... \n",
      " payment_type          | Cash                 \n",
      " fare_amount           | 7.5                  \n",
      " extra                 | 0.5                  \n",
      " mta_tax               | 0.5                  \n",
      " tip_amount            | 0.0                  \n",
      " tolls_amount          | 0.0                  \n",
      " improvement_surcharge | 0.3                  \n",
      " total_amount          | 8.8                  \n",
      " congestion_surcharge  | null                 \n",
      " airport_fee           | null                 \n",
      "-RECORD 7-------------------------------------\n",
      " Vendor                | VeriFone Inc.        \n",
      " tpep_pickup_datetime  | 2018-11-01 02:03:28  \n",
      " tpep_dropoff_datetime | 2018-11-01 02:32:10  \n",
      " passenger_count       | 2.0                  \n",
      " trip_distance         | 22.09                \n",
      " Rate_type             | JFK                  \n",
      " store_and_fwd_flag    | N                    \n",
      " PU_Location           | Queens,JFK Airport   \n",
      " DO_Location           | Manhattan,Midtown... \n",
      " payment_type          | Cash                 \n",
      " fare_amount           | 52.0                 \n",
      " extra                 | null                 \n",
      " mta_tax               | 0.5                  \n",
      " tip_amount            | 0.0                  \n",
      " tolls_amount          | 5.76                 \n",
      " improvement_surcharge | 0.3                  \n",
      " total_amount          | 58.56                \n",
      " congestion_surcharge  | null                 \n",
      " airport_fee           | null                 \n",
      "-RECORD 8-------------------------------------\n",
      " Vendor                | Creative Mobile T... \n",
      " tpep_pickup_datetime  | 2018-11-01 01:05:28  \n",
      " tpep_dropoff_datetime | 2018-11-01 01:14:50  \n",
      " passenger_count       | 1.0                  \n",
      " trip_distance         | 1.6                  \n",
      " Rate_type             | Standard rate        \n",
      " store_and_fwd_flag    | N                    \n",
      " PU_Location           | Manhattan,Meatpac... \n",
      " DO_Location           | Manhattan,Garment... \n",
      " payment_type          | Cash                 \n",
      " fare_amount           | 8.0                  \n",
      " extra                 | 0.5                  \n",
      " mta_tax               | 0.5                  \n",
      " tip_amount            | 0.0                  \n",
      " tolls_amount          | 0.0                  \n",
      " improvement_surcharge | 0.3                  \n",
      " total_amount          | 9.3                  \n",
      " congestion_surcharge  | null                 \n",
      " airport_fee           | null                 \n",
      "-RECORD 9-------------------------------------\n",
      " Vendor                | Creative Mobile T... \n",
      " tpep_pickup_datetime  | 2018-11-01 01:30:17  \n",
      " tpep_dropoff_datetime | 2018-11-01 01:41:39  \n",
      " passenger_count       | 2.0                  \n",
      " trip_distance         | 1.8                  \n",
      " Rate_type             | Standard rate        \n",
      " store_and_fwd_flag    | N                    \n",
      " PU_Location           | Manhattan,Flatiron   \n",
      " DO_Location           | Manhattan,West Ch... \n",
      " payment_type          | Cash                 \n",
      " fare_amount           | 9.5                  \n",
      " extra                 | 0.5                  \n",
      " mta_tax               | 0.5                  \n",
      " tip_amount            | 0.0                  \n",
      " tolls_amount          | 0.0                  \n",
      " improvement_surcharge | 0.3                  \n",
      " total_amount          | 10.8                 \n",
      " congestion_surcharge  | null                 \n",
      " airport_fee           | null                 \n",
      "-RECORD 10------------------------------------\n",
      " Vendor                | Creative Mobile T... \n",
      " tpep_pickup_datetime  | 2018-11-01 01:07:47  \n",
      " tpep_dropoff_datetime | 2018-11-01 01:17:42  \n",
      " passenger_count       | 2.0                  \n",
      " trip_distance         | 2.3                  \n",
      " Rate_type             | Standard rate        \n",
      " store_and_fwd_flag    | N                    \n",
      " PU_Location           | Manhattan,Meatpac... \n",
      " DO_Location           | Manhattan,Midtown... \n",
      " payment_type          | Cash                 \n",
      " fare_amount           | 9.5                  \n",
      " extra                 | 0.5                  \n",
      " mta_tax               | 0.5                  \n",
      " tip_amount            | 0.0                  \n",
      " tolls_amount          | 0.0                  \n",
      " improvement_surcharge | 0.3                  \n",
      " total_amount          | 10.8                 \n",
      " congestion_surcharge  | null                 \n",
      " airport_fee           | null                 \n",
      "-RECORD 11------------------------------------\n",
      " Vendor                | Creative Mobile T... \n",
      " tpep_pickup_datetime  | 2018-11-01 01:18:40  \n",
      " tpep_dropoff_datetime | 2018-11-01 01:24:25  \n",
      " passenger_count       | 2.0                  \n",
      " trip_distance         | 1.0                  \n",
      " Rate_type             | Standard rate        \n",
      " store_and_fwd_flag    | N                    \n",
      " PU_Location           | Manhattan,Midtown... \n",
      " DO_Location           | Manhattan,Midtown... \n",
      " payment_type          | Credit card          \n",
      " fare_amount           | 6.0                  \n",
      " extra                 | 0.5                  \n",
      " mta_tax               | 0.5                  \n",
      " tip_amount            | 1.45                 \n",
      " tolls_amount          | 0.0                  \n",
      " improvement_surcharge | 0.3                  \n",
      " total_amount          | 8.75                 \n",
      " congestion_surcharge  | null                 \n",
      " airport_fee           | null                 \n",
      "-RECORD 12------------------------------------\n",
      " Vendor                | Creative Mobile T... \n",
      " tpep_pickup_datetime  | 2018-11-01 01:29:40  \n",
      " tpep_dropoff_datetime | 2018-11-01 01:49:02  \n",
      " passenger_count       | 1.0                  \n",
      " trip_distance         | 7.0                  \n",
      " Rate_type             | Standard rate        \n",
      " store_and_fwd_flag    | N                    \n",
      " PU_Location           | Manhattan,Midtown... \n",
      " DO_Location           | Brooklyn,Williams... \n",
      " payment_type          | Credit card          \n",
      " fare_amount           | 21.5                 \n",
      " extra                 | 0.5                  \n",
      " mta_tax               | 0.5                  \n",
      " tip_amount            | 3.0                  \n",
      " tolls_amount          | 5.76                 \n",
      " improvement_surcharge | 0.3                  \n",
      " total_amount          | 31.56                \n",
      " congestion_surcharge  | null                 \n",
      " airport_fee           | null                 \n",
      "-RECORD 13------------------------------------\n",
      " Vendor                | Creative Mobile T... \n",
      " tpep_pickup_datetime  | 2018-11-01 01:17:55  \n",
      " tpep_dropoff_datetime | 2018-11-01 01:32:05  \n",
      " passenger_count       | 2.0                  \n",
      " trip_distance         | 1.8                  \n",
      " Rate_type             | Standard rate        \n",
      " store_and_fwd_flag    | N                    \n",
      " PU_Location           | Manhattan,Garment... \n",
      " DO_Location           | Manhattan,Gramercy   \n",
      " payment_type          | Credit card          \n",
      " fare_amount           | 11.0                 \n",
      " extra                 | 0.5                  \n",
      " mta_tax               | 0.5                  \n",
      " tip_amount            | 1.23                 \n",
      " tolls_amount          | 0.0                  \n",
      " improvement_surcharge | 0.3                  \n",
      " total_amount          | 13.53                \n",
      " congestion_surcharge  | null                 \n",
      " airport_fee           | null                 \n",
      "-RECORD 14------------------------------------\n",
      " Vendor                | Creative Mobile T... \n",
      " tpep_pickup_datetime  | 2018-11-01 01:37:58  \n",
      " tpep_dropoff_datetime | 2018-11-01 01:58:01  \n",
      " passenger_count       | 3.0                  \n",
      " trip_distance         | 2.1                  \n",
      " Rate_type             | Standard rate        \n",
      " store_and_fwd_flag    | N                    \n",
      " PU_Location           | Manhattan,Lower E... \n",
      " DO_Location           | Manhattan,Meatpac... \n",
      " payment_type          | No charge            \n",
      " fare_amount           | 14.0                 \n",
      " extra                 | 0.5                  \n",
      " mta_tax               | 0.5                  \n",
      " tip_amount            | 0.0                  \n",
      " tolls_amount          | 0.0                  \n",
      " improvement_surcharge | 0.3                  \n",
      " total_amount          | 15.3                 \n",
      " congestion_surcharge  | null                 \n",
      " airport_fee           | null                 \n",
      "-RECORD 15------------------------------------\n",
      " Vendor                | VeriFone Inc.        \n",
      " tpep_pickup_datetime  | 2018-11-01 01:07:07  \n",
      " tpep_dropoff_datetime | 2018-11-01 01:34:11  \n",
      " passenger_count       | 3.0                  \n",
      " trip_distance         | 7.64                 \n",
      " Rate_type             | Standard rate        \n",
      " store_and_fwd_flag    | N                    \n",
      " PU_Location           | Manhattan,Lincoln... \n",
      " DO_Location           | Manhattan,Washing... \n",
      " payment_type          | Credit card          \n",
      " fare_amount           | 26.5                 \n",
      " extra                 | 0.5                  \n",
      " mta_tax               | 0.5                  \n",
      " tip_amount            | 5.56                 \n",
      " tolls_amount          | 0.0                  \n",
      " improvement_surcharge | 0.3                  \n",
      " total_amount          | 33.36                \n",
      " congestion_surcharge  | null                 \n",
      " airport_fee           | null                 \n",
      "-RECORD 16------------------------------------\n",
      " Vendor                | VeriFone Inc.        \n",
      " tpep_pickup_datetime  | 2018-11-01 01:59:37  \n",
      " tpep_dropoff_datetime | 2018-11-01 02:04:10  \n",
      " passenger_count       | 1.0                  \n",
      " trip_distance         | 0.98                 \n",
      " Rate_type             | Standard rate        \n",
      " store_and_fwd_flag    | N                    \n",
      " PU_Location           | Manhattan,Bloomin... \n",
      " DO_Location           | Manhattan,Upper W... \n",
      " payment_type          | Credit card          \n",
      " fare_amount           | 5.5                  \n",
      " extra                 | 0.5                  \n",
      " mta_tax               | 0.5                  \n",
      " tip_amount            | 1.36                 \n",
      " tolls_amount          | 0.0                  \n",
      " improvement_surcharge | 0.3                  \n",
      " total_amount          | 8.16                 \n",
      " congestion_surcharge  | null                 \n",
      " airport_fee           | null                 \n",
      "-RECORD 17------------------------------------\n",
      " Vendor                | Creative Mobile T... \n",
      " tpep_pickup_datetime  | 2018-11-01 01:46:50  \n",
      " tpep_dropoff_datetime | 2018-11-01 02:08:13  \n",
      " passenger_count       | 1.0                  \n",
      " trip_distance         | 2.8                  \n",
      " Rate_type             | Standard rate        \n",
      " store_and_fwd_flag    | N                    \n",
      " PU_Location           | Manhattan,Midtown... \n",
      " DO_Location           | Manhattan,West Vi... \n",
      " payment_type          | Credit card          \n",
      " fare_amount           | 15.5                 \n",
      " extra                 | 0.5                  \n",
      " mta_tax               | 0.5                  \n",
      " tip_amount            | 2.0                  \n",
      " tolls_amount          | 0.0                  \n",
      " improvement_surcharge | 0.3                  \n",
      " total_amount          | 18.8                 \n",
      " congestion_surcharge  | null                 \n",
      " airport_fee           | null                 \n",
      "-RECORD 18------------------------------------\n",
      " Vendor                | Creative Mobile T... \n",
      " tpep_pickup_datetime  | 2018-11-01 01:26:12  \n",
      " tpep_dropoff_datetime | 2018-11-01 01:34:22  \n",
      " passenger_count       | 1.0                  \n",
      " trip_distance         | 2.0                  \n",
      " Rate_type             | Standard rate        \n",
      " store_and_fwd_flag    | N                    \n",
      " PU_Location           | Manhattan,Upper E... \n",
      " DO_Location           | Manhattan,Kips Bay   \n",
      " payment_type          | Cash                 \n",
      " fare_amount           | 8.5                  \n",
      " extra                 | 0.5                  \n",
      " mta_tax               | 0.5                  \n",
      " tip_amount            | 0.0                  \n",
      " tolls_amount          | 0.0                  \n",
      " improvement_surcharge | 0.3                  \n",
      " total_amount          | 9.8                  \n",
      " congestion_surcharge  | null                 \n",
      " airport_fee           | null                 \n",
      "-RECORD 19------------------------------------\n",
      " Vendor                | Creative Mobile T... \n",
      " tpep_pickup_datetime  | 2018-11-01 01:37:51  \n",
      " tpep_dropoff_datetime | 2018-11-01 01:39:46  \n",
      " passenger_count       | 1.0                  \n",
      " trip_distance         | 0.1                  \n",
      " Rate_type             | Standard rate        \n",
      " store_and_fwd_flag    | N                    \n",
      " PU_Location           | Manhattan,Kips Bay   \n",
      " DO_Location           | Manhattan,Kips Bay   \n",
      " payment_type          | null                 \n",
      " fare_amount           | 3.5                  \n",
      " extra                 | 0.5                  \n",
      " mta_tax               | 0.5                  \n",
      " tip_amount            | 0.0                  \n",
      " tolls_amount          | 0.0                  \n",
      " improvement_surcharge | 0.3                  \n",
      " total_amount          | 4.8                  \n",
      " congestion_surcharge  | null                 \n",
      " airport_fee           | null                 \n",
      "only showing top 20 rows\n",
      "\n"
     ]
    },
    {
     "name": "stdout",
     "output_type": "stream",
     "text": [
      "Total number of rows:  8155459\n"
     ]
    }
   ],
   "source": [
    "def show_first_20(df):\n",
    "    df.show(20, vertical=True)\n",
    "    print(\"Total number of rows: \", df.count())\n",
    "show_first_20(df_trip)"
   ]
  },
  {
   "cell_type": "markdown",
   "id": "361aa495",
   "metadata": {},
   "source": [
    "### How many partitions is this dataframe split into?"
   ]
  },
  {
   "cell_type": "code",
   "execution_count": 176,
   "id": "c0151823",
   "metadata": {
    "ExecuteTime": {
     "end_time": "2023-12-10T19:34:53.644336Z",
     "start_time": "2023-12-10T19:34:53.492229Z"
    }
   },
   "outputs": [
    {
     "name": "stdout",
     "output_type": "stream",
     "text": [
      "Number of partitions:  12\n"
     ]
    }
   ],
   "source": [
    "def get_num_partitions(df):\n",
    "    return df.rdd.getNumPartitions()\n",
    "num_partitions = get_num_partitions(df_trip)\n",
    "print(\"Number of partitions: \", num_partitions)"
   ]
  },
  {
   "cell_type": "markdown",
   "id": "7cd45fad",
   "metadata": {},
   "source": [
    "## Basic cleaning"
   ]
  },
  {
   "cell_type": "markdown",
   "id": "4e30192c",
   "metadata": {},
   "source": [
    "### rename all columns (replacing a space with an underscore, and making it lowercase)"
   ]
  },
  {
   "cell_type": "code",
   "execution_count": 177,
   "id": "1a36b9c8",
   "metadata": {
    "ExecuteTime": {
     "end_time": "2023-12-10T19:34:54.711895Z",
     "start_time": "2023-12-10T19:34:53.646993Z"
    }
   },
   "outputs": [
    {
     "name": "stdout",
     "output_type": "stream",
     "text": [
      "-RECORD 0-------------------------------------\n",
      " vendor                | Creative Mobile T... \n",
      " tpep_pickup_datetime  | 2018-11-01 01:51:36  \n",
      " tpep_dropoff_datetime | 2018-11-01 01:52:36  \n",
      " passenger_count       | 1.0                  \n",
      " trip_distance         | 0.0                  \n",
      " rate_type             | Standard rate        \n",
      " store_and_fwd_flag    | N                    \n",
      " pu_location           | Queens,Long Islan... \n",
      " do_location           | Queens,Long Islan... \n",
      " payment_type          | Cash                 \n",
      " fare_amount           | 2.5                  \n",
      " extra                 | 0.5                  \n",
      " mta_tax               | 0.5                  \n",
      " tip_amount            | 0.0                  \n",
      " tolls_amount          | 0.0                  \n",
      " improvement_surcharge | 0.3                  \n",
      " total_amount          | 3.8                  \n",
      " congestion_surcharge  | null                 \n",
      " airport_fee           | null                 \n",
      "-RECORD 1-------------------------------------\n",
      " vendor                | Creative Mobile T... \n",
      " tpep_pickup_datetime  | 2018-11-01 01:07:47  \n",
      " tpep_dropoff_datetime | 2018-11-01 01:21:43  \n",
      " passenger_count       | 1.0                  \n",
      " trip_distance         | 2.3                  \n",
      " rate_type             | Standard rate        \n",
      " store_and_fwd_flag    | N                    \n",
      " pu_location           | Manhattan,Lincoln... \n",
      " do_location           | Manhattan,Midtown... \n",
      " payment_type          | Credit card          \n",
      " fare_amount           | 11.0                 \n",
      " extra                 | 0.5                  \n",
      " mta_tax               | 0.5                  \n",
      " tip_amount            | 2.45                 \n",
      " tolls_amount          | 0.0                  \n",
      " improvement_surcharge | 0.3                  \n",
      " total_amount          | 14.75                \n",
      " congestion_surcharge  | null                 \n",
      " airport_fee           | null                 \n",
      "-RECORD 2-------------------------------------\n",
      " vendor                | Creative Mobile T... \n",
      " tpep_pickup_datetime  | 2018-11-01 01:24:27  \n",
      " tpep_dropoff_datetime | 2018-11-01 01:34:29  \n",
      " passenger_count       | 1.0                  \n",
      " trip_distance         | 1.8                  \n",
      " rate_type             | Standard rate        \n",
      " store_and_fwd_flag    | N                    \n",
      " pu_location           | Manhattan,Midtown... \n",
      " do_location           | Manhattan,Clinton... \n",
      " payment_type          | Cash                 \n",
      " fare_amount           | 8.5                  \n",
      " extra                 | 0.5                  \n",
      " mta_tax               | 0.5                  \n",
      " tip_amount            | 0.0                  \n",
      " tolls_amount          | 0.0                  \n",
      " improvement_surcharge | 0.3                  \n",
      " total_amount          | 9.8                  \n",
      " congestion_surcharge  | null                 \n",
      " airport_fee           | null                 \n",
      "-RECORD 3-------------------------------------\n",
      " vendor                | Creative Mobile T... \n",
      " tpep_pickup_datetime  | 2018-11-01 01:35:27  \n",
      " tpep_dropoff_datetime | 2018-11-01 01:47:02  \n",
      " passenger_count       | 1.0                  \n",
      " trip_distance         | 2.3                  \n",
      " rate_type             | Standard rate        \n",
      " store_and_fwd_flag    | N                    \n",
      " pu_location           | Manhattan,Clinton... \n",
      " do_location           | Manhattan,Gramercy   \n",
      " payment_type          | Credit card          \n",
      " fare_amount           | 10.0                 \n",
      " extra                 | 0.5                  \n",
      " mta_tax               | 0.5                  \n",
      " tip_amount            | 3.35                 \n",
      " tolls_amount          | 0.0                  \n",
      " improvement_surcharge | 0.3                  \n",
      " total_amount          | 14.65                \n",
      " congestion_surcharge  | null                 \n",
      " airport_fee           | null                 \n",
      "-RECORD 4-------------------------------------\n",
      " vendor                | Creative Mobile T... \n",
      " tpep_pickup_datetime  | 2018-11-01 01:16:46  \n",
      " tpep_dropoff_datetime | 2018-11-01 01:22:50  \n",
      " passenger_count       | 1.0                  \n",
      " trip_distance         | 1.0                  \n",
      " rate_type             | Standard rate        \n",
      " store_and_fwd_flag    | N                    \n",
      " pu_location           | Manhattan,Midtown... \n",
      " do_location           | Manhattan,Murray ... \n",
      " payment_type          | Cash                 \n",
      " fare_amount           | 6.0                  \n",
      " extra                 | 0.5                  \n",
      " mta_tax               | 0.5                  \n",
      " tip_amount            | 0.0                  \n",
      " tolls_amount          | 0.0                  \n",
      " improvement_surcharge | 0.3                  \n",
      " total_amount          | 7.3                  \n",
      " congestion_surcharge  | null                 \n",
      " airport_fee           | null                 \n",
      "-RECORD 5-------------------------------------\n",
      " vendor                | Creative Mobile T... \n",
      " tpep_pickup_datetime  | 2018-11-01 01:23:57  \n",
      " tpep_dropoff_datetime | 2018-11-01 01:34:29  \n",
      " passenger_count       | 1.0                  \n",
      " trip_distance         | 2.1                  \n",
      " rate_type             | Standard rate        \n",
      " store_and_fwd_flag    | N                    \n",
      " pu_location           | Manhattan,Murray ... \n",
      " do_location           | Manhattan,East Vi... \n",
      " payment_type          | null                 \n",
      " fare_amount           | 9.0                  \n",
      " extra                 | 0.5                  \n",
      " mta_tax               | 0.5                  \n",
      " tip_amount            | 0.0                  \n",
      " tolls_amount          | 0.0                  \n",
      " improvement_surcharge | 0.3                  \n",
      " total_amount          | 10.3                 \n",
      " congestion_surcharge  | null                 \n",
      " airport_fee           | null                 \n",
      "-RECORD 6-------------------------------------\n",
      " vendor                | Creative Mobile T... \n",
      " tpep_pickup_datetime  | 2018-11-01 01:57:07  \n",
      " tpep_dropoff_datetime | 2018-11-01 02:05:27  \n",
      " passenger_count       | 1.0                  \n",
      " trip_distance         | 1.6                  \n",
      " rate_type             | Standard rate        \n",
      " store_and_fwd_flag    | N                    \n",
      " pu_location           | Manhattan,Lower E... \n",
      " do_location           | Manhattan,East Vi... \n",
      " payment_type          | Cash                 \n",
      " fare_amount           | 7.5                  \n",
      " extra                 | 0.5                  \n",
      " mta_tax               | 0.5                  \n",
      " tip_amount            | 0.0                  \n",
      " tolls_amount          | 0.0                  \n",
      " improvement_surcharge | 0.3                  \n",
      " total_amount          | 8.8                  \n",
      " congestion_surcharge  | null                 \n",
      " airport_fee           | null                 \n",
      "-RECORD 7-------------------------------------\n",
      " vendor                | VeriFone Inc.        \n",
      " tpep_pickup_datetime  | 2018-11-01 02:03:28  \n",
      " tpep_dropoff_datetime | 2018-11-01 02:32:10  \n",
      " passenger_count       | 2.0                  \n",
      " trip_distance         | 22.09                \n",
      " rate_type             | JFK                  \n",
      " store_and_fwd_flag    | N                    \n",
      " pu_location           | Queens,JFK Airport   \n",
      " do_location           | Manhattan,Midtown... \n",
      " payment_type          | Cash                 \n",
      " fare_amount           | 52.0                 \n",
      " extra                 | null                 \n",
      " mta_tax               | 0.5                  \n",
      " tip_amount            | 0.0                  \n",
      " tolls_amount          | 5.76                 \n",
      " improvement_surcharge | 0.3                  \n",
      " total_amount          | 58.56                \n",
      " congestion_surcharge  | null                 \n",
      " airport_fee           | null                 \n",
      "-RECORD 8-------------------------------------\n",
      " vendor                | Creative Mobile T... \n",
      " tpep_pickup_datetime  | 2018-11-01 01:05:28  \n",
      " tpep_dropoff_datetime | 2018-11-01 01:14:50  \n",
      " passenger_count       | 1.0                  \n",
      " trip_distance         | 1.6                  \n",
      " rate_type             | Standard rate        \n",
      " store_and_fwd_flag    | N                    \n",
      " pu_location           | Manhattan,Meatpac... \n",
      " do_location           | Manhattan,Garment... \n",
      " payment_type          | Cash                 \n",
      " fare_amount           | 8.0                  \n",
      " extra                 | 0.5                  \n",
      " mta_tax               | 0.5                  \n",
      " tip_amount            | 0.0                  \n",
      " tolls_amount          | 0.0                  \n",
      " improvement_surcharge | 0.3                  \n",
      " total_amount          | 9.3                  \n",
      " congestion_surcharge  | null                 \n",
      " airport_fee           | null                 \n",
      "-RECORD 9-------------------------------------\n",
      " vendor                | Creative Mobile T... \n",
      " tpep_pickup_datetime  | 2018-11-01 01:30:17  \n",
      " tpep_dropoff_datetime | 2018-11-01 01:41:39  \n",
      " passenger_count       | 2.0                  \n",
      " trip_distance         | 1.8                  \n",
      " rate_type             | Standard rate        \n",
      " store_and_fwd_flag    | N                    \n",
      " pu_location           | Manhattan,Flatiron   \n",
      " do_location           | Manhattan,West Ch... \n",
      " payment_type          | Cash                 \n",
      " fare_amount           | 9.5                  \n",
      " extra                 | 0.5                  \n",
      " mta_tax               | 0.5                  \n",
      " tip_amount            | 0.0                  \n",
      " tolls_amount          | 0.0                  \n",
      " improvement_surcharge | 0.3                  \n",
      " total_amount          | 10.8                 \n",
      " congestion_surcharge  | null                 \n",
      " airport_fee           | null                 \n",
      "-RECORD 10------------------------------------\n",
      " vendor                | Creative Mobile T... \n",
      " tpep_pickup_datetime  | 2018-11-01 01:07:47  \n",
      " tpep_dropoff_datetime | 2018-11-01 01:17:42  \n",
      " passenger_count       | 2.0                  \n",
      " trip_distance         | 2.3                  \n",
      " rate_type             | Standard rate        \n",
      " store_and_fwd_flag    | N                    \n",
      " pu_location           | Manhattan,Meatpac... \n",
      " do_location           | Manhattan,Midtown... \n",
      " payment_type          | Cash                 \n",
      " fare_amount           | 9.5                  \n",
      " extra                 | 0.5                  \n",
      " mta_tax               | 0.5                  \n",
      " tip_amount            | 0.0                  \n",
      " tolls_amount          | 0.0                  \n",
      " improvement_surcharge | 0.3                  \n",
      " total_amount          | 10.8                 \n",
      " congestion_surcharge  | null                 \n",
      " airport_fee           | null                 \n",
      "-RECORD 11------------------------------------\n",
      " vendor                | Creative Mobile T... \n",
      " tpep_pickup_datetime  | 2018-11-01 01:18:40  \n",
      " tpep_dropoff_datetime | 2018-11-01 01:24:25  \n",
      " passenger_count       | 2.0                  \n",
      " trip_distance         | 1.0                  \n",
      " rate_type             | Standard rate        \n",
      " store_and_fwd_flag    | N                    \n",
      " pu_location           | Manhattan,Midtown... \n",
      " do_location           | Manhattan,Midtown... \n",
      " payment_type          | Credit card          \n",
      " fare_amount           | 6.0                  \n",
      " extra                 | 0.5                  \n",
      " mta_tax               | 0.5                  \n",
      " tip_amount            | 1.45                 \n",
      " tolls_amount          | 0.0                  \n",
      " improvement_surcharge | 0.3                  \n",
      " total_amount          | 8.75                 \n",
      " congestion_surcharge  | null                 \n",
      " airport_fee           | null                 \n",
      "-RECORD 12------------------------------------\n",
      " vendor                | Creative Mobile T... \n",
      " tpep_pickup_datetime  | 2018-11-01 01:29:40  \n",
      " tpep_dropoff_datetime | 2018-11-01 01:49:02  \n",
      " passenger_count       | 1.0                  \n",
      " trip_distance         | 7.0                  \n",
      " rate_type             | Standard rate        \n",
      " store_and_fwd_flag    | N                    \n",
      " pu_location           | Manhattan,Midtown... \n",
      " do_location           | Brooklyn,Williams... \n",
      " payment_type          | Credit card          \n",
      " fare_amount           | 21.5                 \n",
      " extra                 | 0.5                  \n",
      " mta_tax               | 0.5                  \n",
      " tip_amount            | 3.0                  \n",
      " tolls_amount          | 5.76                 \n",
      " improvement_surcharge | 0.3                  \n",
      " total_amount          | 31.56                \n",
      " congestion_surcharge  | null                 \n",
      " airport_fee           | null                 \n",
      "-RECORD 13------------------------------------\n",
      " vendor                | Creative Mobile T... \n",
      " tpep_pickup_datetime  | 2018-11-01 01:17:55  \n",
      " tpep_dropoff_datetime | 2018-11-01 01:32:05  \n",
      " passenger_count       | 2.0                  \n",
      " trip_distance         | 1.8                  \n",
      " rate_type             | Standard rate        \n",
      " store_and_fwd_flag    | N                    \n",
      " pu_location           | Manhattan,Garment... \n",
      " do_location           | Manhattan,Gramercy   \n",
      " payment_type          | Credit card          \n",
      " fare_amount           | 11.0                 \n",
      " extra                 | 0.5                  \n",
      " mta_tax               | 0.5                  \n",
      " tip_amount            | 1.23                 \n",
      " tolls_amount          | 0.0                  \n",
      " improvement_surcharge | 0.3                  \n",
      " total_amount          | 13.53                \n",
      " congestion_surcharge  | null                 \n",
      " airport_fee           | null                 \n",
      "-RECORD 14------------------------------------\n",
      " vendor                | Creative Mobile T... \n",
      " tpep_pickup_datetime  | 2018-11-01 01:37:58  \n",
      " tpep_dropoff_datetime | 2018-11-01 01:58:01  \n",
      " passenger_count       | 3.0                  \n",
      " trip_distance         | 2.1                  \n",
      " rate_type             | Standard rate        \n",
      " store_and_fwd_flag    | N                    \n",
      " pu_location           | Manhattan,Lower E... \n",
      " do_location           | Manhattan,Meatpac... \n",
      " payment_type          | No charge            \n",
      " fare_amount           | 14.0                 \n",
      " extra                 | 0.5                  \n",
      " mta_tax               | 0.5                  \n",
      " tip_amount            | 0.0                  \n",
      " tolls_amount          | 0.0                  \n",
      " improvement_surcharge | 0.3                  \n",
      " total_amount          | 15.3                 \n",
      " congestion_surcharge  | null                 \n",
      " airport_fee           | null                 \n",
      "-RECORD 15------------------------------------\n",
      " vendor                | VeriFone Inc.        \n",
      " tpep_pickup_datetime  | 2018-11-01 01:07:07  \n",
      " tpep_dropoff_datetime | 2018-11-01 01:34:11  \n",
      " passenger_count       | 3.0                  \n",
      " trip_distance         | 7.64                 \n",
      " rate_type             | Standard rate        \n",
      " store_and_fwd_flag    | N                    \n",
      " pu_location           | Manhattan,Lincoln... \n",
      " do_location           | Manhattan,Washing... \n",
      " payment_type          | Credit card          \n",
      " fare_amount           | 26.5                 \n",
      " extra                 | 0.5                  \n",
      " mta_tax               | 0.5                  \n",
      " tip_amount            | 5.56                 \n",
      " tolls_amount          | 0.0                  \n",
      " improvement_surcharge | 0.3                  \n",
      " total_amount          | 33.36                \n",
      " congestion_surcharge  | null                 \n",
      " airport_fee           | null                 \n",
      "-RECORD 16------------------------------------\n",
      " vendor                | VeriFone Inc.        \n",
      " tpep_pickup_datetime  | 2018-11-01 01:59:37  \n",
      " tpep_dropoff_datetime | 2018-11-01 02:04:10  \n",
      " passenger_count       | 1.0                  \n",
      " trip_distance         | 0.98                 \n",
      " rate_type             | Standard rate        \n",
      " store_and_fwd_flag    | N                    \n",
      " pu_location           | Manhattan,Bloomin... \n",
      " do_location           | Manhattan,Upper W... \n",
      " payment_type          | Credit card          \n",
      " fare_amount           | 5.5                  \n",
      " extra                 | 0.5                  \n",
      " mta_tax               | 0.5                  \n",
      " tip_amount            | 1.36                 \n",
      " tolls_amount          | 0.0                  \n",
      " improvement_surcharge | 0.3                  \n",
      " total_amount          | 8.16                 \n",
      " congestion_surcharge  | null                 \n",
      " airport_fee           | null                 \n",
      "-RECORD 17------------------------------------\n",
      " vendor                | Creative Mobile T... \n",
      " tpep_pickup_datetime  | 2018-11-01 01:46:50  \n",
      " tpep_dropoff_datetime | 2018-11-01 02:08:13  \n",
      " passenger_count       | 1.0                  \n",
      " trip_distance         | 2.8                  \n",
      " rate_type             | Standard rate        \n",
      " store_and_fwd_flag    | N                    \n",
      " pu_location           | Manhattan,Midtown... \n",
      " do_location           | Manhattan,West Vi... \n",
      " payment_type          | Credit card          \n",
      " fare_amount           | 15.5                 \n",
      " extra                 | 0.5                  \n",
      " mta_tax               | 0.5                  \n",
      " tip_amount            | 2.0                  \n",
      " tolls_amount          | 0.0                  \n",
      " improvement_surcharge | 0.3                  \n",
      " total_amount          | 18.8                 \n",
      " congestion_surcharge  | null                 \n",
      " airport_fee           | null                 \n",
      "-RECORD 18------------------------------------\n",
      " vendor                | Creative Mobile T... \n",
      " tpep_pickup_datetime  | 2018-11-01 01:26:12  \n",
      " tpep_dropoff_datetime | 2018-11-01 01:34:22  \n",
      " passenger_count       | 1.0                  \n",
      " trip_distance         | 2.0                  \n",
      " rate_type             | Standard rate        \n",
      " store_and_fwd_flag    | N                    \n",
      " pu_location           | Manhattan,Upper E... \n",
      " do_location           | Manhattan,Kips Bay   \n",
      " payment_type          | Cash                 \n",
      " fare_amount           | 8.5                  \n",
      " extra                 | 0.5                  \n",
      " mta_tax               | 0.5                  \n",
      " tip_amount            | 0.0                  \n",
      " tolls_amount          | 0.0                  \n",
      " improvement_surcharge | 0.3                  \n",
      " total_amount          | 9.8                  \n",
      " congestion_surcharge  | null                 \n",
      " airport_fee           | null                 \n",
      "-RECORD 19------------------------------------\n",
      " vendor                | Creative Mobile T... \n",
      " tpep_pickup_datetime  | 2018-11-01 01:37:51  \n",
      " tpep_dropoff_datetime | 2018-11-01 01:39:46  \n",
      " passenger_count       | 1.0                  \n",
      " trip_distance         | 0.1                  \n",
      " rate_type             | Standard rate        \n",
      " store_and_fwd_flag    | N                    \n",
      " pu_location           | Manhattan,Kips Bay   \n",
      " do_location           | Manhattan,Kips Bay   \n",
      " payment_type          | null                 \n",
      " fare_amount           | 3.5                  \n",
      " extra                 | 0.5                  \n",
      " mta_tax               | 0.5                  \n",
      " tip_amount            | 0.0                  \n",
      " tolls_amount          | 0.0                  \n",
      " improvement_surcharge | 0.3                  \n",
      " total_amount          | 4.8                  \n",
      " congestion_surcharge  | null                 \n",
      " airport_fee           | null                 \n",
      "only showing top 20 rows\n",
      "\n",
      "Total number of rows:  8155459\n"
     ]
    }
   ],
   "source": [
    "def rename_columns(df):\n",
    "    for col_name in df.columns:\n",
    "        df = df.withColumnRenamed(col_name, col_name.lower().replace(' ', '_'))\n",
    "    return df\n",
    "df_trip = rename_columns(df_trip)\n",
    "show_first_20(df_trip)   "
   ]
  },
  {
   "cell_type": "markdown",
   "id": "8b3afbda",
   "metadata": {},
   "source": [
    "### Detect and remove duplicates\n",
    "- Duplicates are trips with same pickup time,pickup location, dropoff time,drop off location and trip distance"
   ]
  },
  {
   "cell_type": "code",
   "execution_count": 178,
   "id": "19a08746",
   "metadata": {
    "ExecuteTime": {
     "end_time": "2023-12-10T19:35:01.813804Z",
     "start_time": "2023-12-10T19:34:54.714144Z"
    }
   },
   "outputs": [
    {
     "name": "stdout",
     "output_type": "stream",
     "text": [
      "Number of duplicate rows:  7329\n"
     ]
    }
   ],
   "source": [
    "def detect_duplicates(df):\n",
    "    df_temp = df\n",
    "    unique_rows = df_temp.dropDuplicates(['tpep_pickup_datetime', 'pu_location', 'tpep_dropoff_datetime', 'do_location', 'trip_distance'])\n",
    "    print(\"Number of duplicate rows: \", df.count() - unique_rows.count())\n",
    "detect_duplicates(df_trip)"
   ]
  },
  {
   "cell_type": "code",
   "execution_count": 179,
   "id": "e79a41cc",
   "metadata": {
    "ExecuteTime": {
     "end_time": "2023-12-10T19:35:01.826223Z",
     "start_time": "2023-12-10T19:35:01.817057Z"
    }
   },
   "outputs": [],
   "source": [
    "def drop_duplicates(df):\n",
    "    df = df.drop_duplicates(['tpep_pickup_datetime', 'pu_location', 'tpep_dropoff_datetime', 'do_location', 'trip_distance'])           \n",
    "    return df\n",
    "df_trip = drop_duplicates(df_trip)"
   ]
  },
  {
   "cell_type": "markdown",
   "id": "fe15c117",
   "metadata": {},
   "source": [
    "### check that there is are no duplicates"
   ]
  },
  {
   "cell_type": "code",
   "execution_count": 180,
   "id": "c169dd4d",
   "metadata": {
    "ExecuteTime": {
     "end_time": "2023-12-10T19:35:22.446399Z",
     "start_time": "2023-12-10T19:35:01.830519Z"
    }
   },
   "outputs": [
    {
     "name": "stdout",
     "output_type": "stream",
     "text": [
      "Number of duplicate rows:  0\n",
      "Number of duplicate rows:  7329\n"
     ]
    }
   ],
   "source": [
    "detect_duplicates(df_trip)\n",
    "detect_duplicates(df_trip_original)"
   ]
  },
  {
   "cell_type": "markdown",
   "id": "76a487be",
   "metadata": {},
   "source": [
    "### Detect missing\n",
    "- Create a function that takes in the df and returns any data structrue of your choice(df/dict,list,tuple,etc) which has the name of the column and percentage of missing entries from the whole dataset.\n",
    "- Tip : storing the missing info as dict where the key is the column name and value is the percentage would be the easiest.  "
   ]
  },
  {
   "cell_type": "code",
   "execution_count": 181,
   "id": "9a2291b5",
   "metadata": {
    "ExecuteTime": {
     "end_time": "2023-12-10T19:35:22.456643Z",
     "start_time": "2023-12-10T19:35:22.449544Z"
    }
   },
   "outputs": [],
   "source": [
    "def calculate_missing_percentage(df):\n",
    "    total_entries = df.count()\n",
    "    missing_percentage = {}\n",
    "\n",
    "    for column in df.columns:\n",
    "        missing_entries = df.where(col(column).isNull()).count()\n",
    "        percentage = (missing_entries / total_entries) * 100\n",
    "        missing_percentage[column] = percentage\n",
    "\n",
    "    return missing_percentage"
   ]
  },
  {
   "cell_type": "markdown",
   "id": "0e459348",
   "metadata": {},
   "source": [
    "### Prinout the missing info"
   ]
  },
  {
   "cell_type": "code",
   "execution_count": 182,
   "id": "41010a35",
   "metadata": {
    "ExecuteTime": {
     "end_time": "2023-12-10T19:37:34.735125Z",
     "start_time": "2023-12-10T19:35:22.459563Z"
    }
   },
   "outputs": [
    {
     "name": "stdout",
     "output_type": "stream",
     "text": [
      "{'vendor': 0.0, 'tpep_pickup_datetime': 0.0, 'tpep_dropoff_datetime': 0.0, 'passenger_count': 1.438415931017301, 'trip_distance': 0.0, 'rate_type': 0.0, 'store_and_fwd_flag': 0.10814751360128029, 'pu_location': 0.0, 'do_location': 0.0, 'payment_type': 6.559185972732394, 'fare_amount': 0.0, 'extra': 55.41693615590325, 'mta_tax': 0.0, 'tip_amount': 0.0, 'tolls_amount': 0.0, 'improvement_surcharge': 0.0, 'total_amount': 0.0, 'congestion_surcharge': 99.99997545449078, 'airport_fee': 100.0}\n"
     ]
    }
   ],
   "source": [
    "missing_percentage = calculate_missing_percentage(df_trip)\n",
    "print(missing_percentage)"
   ]
  },
  {
   "cell_type": "markdown",
   "id": "ead65669",
   "metadata": {},
   "source": [
    "### Handle missing\n",
    "- For numerical features replace with 0.\n",
    "- For categorical/strings replace with 'Unknown'\n"
   ]
  },
  {
   "cell_type": "code",
   "execution_count": 183,
   "id": "3d78a72f",
   "metadata": {
    "ExecuteTime": {
     "end_time": "2023-12-10T19:37:34.875175Z",
     "start_time": "2023-12-10T19:37:34.739176Z"
    }
   },
   "outputs": [],
   "source": [
    "def impute_numeric(df):\n",
    "    numeric_types = [DoubleType, FloatType, IntegerType, LongType, ShortType]\n",
    "    for column in df.columns:\n",
    "        if type(df.schema[column].dataType) in numeric_types:\n",
    "            df = df.fillna(value = 0, subset = [column])\n",
    "    return df\n",
    "df_trip = impute_numeric(df_trip)"
   ]
  },
  {
   "cell_type": "code",
   "execution_count": 184,
   "id": "85e3a9c9",
   "metadata": {
    "ExecuteTime": {
     "end_time": "2023-12-10T19:37:35.000294Z",
     "start_time": "2023-12-10T19:37:34.877696Z"
    }
   },
   "outputs": [],
   "source": [
    "def impute_categorical(df):\n",
    "    numeric_types = [DoubleType, FloatType, IntegerType, LongType, ShortType]\n",
    "    for column in df.columns:\n",
    "        if type(df.schema[column].dataType) == StringType:\n",
    "            df = df.withColumn(column, when(col(column).rlike('Unknown'), lit('Unknown')).otherwise(col(column)))\n",
    "            df = df.fillna(value = 'Unknown', subset = [column])\n",
    "    return df\n",
    "df_trip = impute_categorical(df_trip)"
   ]
  },
  {
   "cell_type": "markdown",
   "id": "aa139136",
   "metadata": {},
   "source": [
    "### check that there are no missing values"
   ]
  },
  {
   "cell_type": "code",
   "execution_count": 185,
   "id": "17333948",
   "metadata": {
    "ExecuteTime": {
     "end_time": "2023-12-10T19:37:43.707622Z",
     "start_time": "2023-12-10T19:37:35.002444Z"
    }
   },
   "outputs": [
    {
     "name": "stdout",
     "output_type": "stream",
     "text": [
      "{'vendor': 0.0, 'tpep_pickup_datetime': 0.0, 'tpep_dropoff_datetime': 0.0, 'passenger_count': 0.0, 'trip_distance': 0.0, 'rate_type': 0.0, 'store_and_fwd_flag': 0.0, 'pu_location': 0.0, 'do_location': 0.0, 'payment_type': 0.0, 'fare_amount': 0.0, 'extra': 0.0, 'mta_tax': 0.0, 'tip_amount': 0.0, 'tolls_amount': 0.0, 'improvement_surcharge': 0.0, 'total_amount': 0.0, 'congestion_surcharge': 0.0, 'airport_fee': 0.0}\n"
     ]
    }
   ],
   "source": [
    "missing_percentage = calculate_missing_percentage(df_trip)\n",
    "print(missing_percentage)"
   ]
  },
  {
   "cell_type": "markdown",
   "id": "36ac1d9f",
   "metadata": {},
   "source": [
    "## Feature engineering - \n",
    "Write a function that adds the 3 following features. Use built in fucntions in PySpark (from the functions library) check lab 8, Avoid writing UDFs from scratch.\n",
    "- trip duration (the format/unit is up to you)\n",
    "- is_weekend. whether the trip occurred on Saturday or Sunday.\n",
    "- week number (relevant to the month and not year, i.e 1,2,3,4 nto 31,32,33...) "
   ]
  },
  {
   "cell_type": "code",
   "execution_count": 186,
   "id": "3d3fcc55",
   "metadata": {
    "ExecuteTime": {
     "end_time": "2023-12-10T19:37:43.733677Z",
     "start_time": "2023-12-10T19:37:43.710153Z"
    }
   },
   "outputs": [],
   "source": [
    "def add_trip_duration(df, destination_time_col, pickup_time_col):\n",
    "    timeFmt = \"yyyy-MM-dd'T'HH:mm:ss.SSS\"\n",
    "    timeDiff = -1 * (unix_timestamp(destination_time_col, format=timeFmt)\n",
    "                - unix_timestamp(pickup_time_col, format=timeFmt))\n",
    "    timeDiff = timeDiff / 60\n",
    "    df = df.withColumn(\"trip_duration_m\", timeDiff)\n",
    "    return df\n",
    "df_trip = add_trip_duration(df_trip, df_trip['tpep_pickup_datetime'], df_trip['tpep_dropoff_datetime'])\n"
   ]
  },
  {
   "cell_type": "code",
   "execution_count": 187,
   "id": "783d9bcb",
   "metadata": {
    "ExecuteTime": {
     "end_time": "2023-12-10T19:37:43.772097Z",
     "start_time": "2023-12-10T19:37:43.737457Z"
    }
   },
   "outputs": [],
   "source": [
    "def is_weekend(df, date_column):\n",
    "    df = df.withColumn('is_weekend', when(date_format(col(date_column), 'E').isin(['Sat', 'Sun']), 'Weekend').otherwise('Weekday'))\n",
    "    return df\n",
    "\n",
    "df_trip = is_weekend(df_trip, 'tpep_pickup_datetime')"
   ]
  },
  {
   "cell_type": "code",
   "execution_count": 188,
   "id": "b5a59334",
   "metadata": {
    "ExecuteTime": {
     "end_time": "2023-12-10T19:37:43.826035Z",
     "start_time": "2023-12-10T19:37:43.775376Z"
    }
   },
   "outputs": [],
   "source": [
    "def add_week_number(df, date_column):\n",
    "    df = df.withColumn('week_number', ceil((dayofmonth(col(date_column)) - 1) / 7))\n",
    "    return df\n",
    "\n",
    "df_trip = add_week_number(df_trip, 'tpep_pickup_datetime')"
   ]
  },
  {
   "cell_type": "markdown",
   "id": "8a927246",
   "metadata": {},
   "source": [
    "### Preview the first 20 rows (only select the following features: pickup and droptime, and the 3 features you added). "
   ]
  },
  {
   "cell_type": "code",
   "execution_count": 189,
   "id": "5e9aae0a",
   "metadata": {
    "ExecuteTime": {
     "end_time": "2023-12-10T19:37:50.034358Z",
     "start_time": "2023-12-10T19:37:43.829444Z"
    }
   },
   "outputs": [
    {
     "name": "stdout",
     "output_type": "stream",
     "text": [
      "-RECORD 0------------------------------------\n",
      " tpep_pickup_datetime  | 2018-11-01 01:04:26 \n",
      " tpep_dropoff_datetime | 2018-11-01 01:10:25 \n",
      " trip_duration_m       | 5.983333333333333   \n",
      " is_weekend            | Weekday             \n",
      " week_number           | 0                   \n",
      "-RECORD 1------------------------------------\n",
      " tpep_pickup_datetime  | 2018-11-01 01:05:43 \n",
      " tpep_dropoff_datetime | 2018-11-01 01:13:45 \n",
      " trip_duration_m       | 8.033333333333333   \n",
      " is_weekend            | Weekday             \n",
      " week_number           | 0                   \n",
      "-RECORD 2------------------------------------\n",
      " tpep_pickup_datetime  | 2018-11-01 01:04:22 \n",
      " tpep_dropoff_datetime | 2018-11-01 01:15:05 \n",
      " trip_duration_m       | 10.716666666666667  \n",
      " is_weekend            | Weekday             \n",
      " week_number           | 0                   \n",
      "-RECORD 3------------------------------------\n",
      " tpep_pickup_datetime  | 2018-11-01 01:02:28 \n",
      " tpep_dropoff_datetime | 2018-11-01 01:16:04 \n",
      " trip_duration_m       | 13.6                \n",
      " is_weekend            | Weekday             \n",
      " week_number           | 0                   \n",
      "-RECORD 4------------------------------------\n",
      " tpep_pickup_datetime  | 2018-11-01 01:00:34 \n",
      " tpep_dropoff_datetime | 2018-11-01 01:17:51 \n",
      " trip_duration_m       | 17.283333333333335  \n",
      " is_weekend            | Weekday             \n",
      " week_number           | 0                   \n",
      "-RECORD 5------------------------------------\n",
      " tpep_pickup_datetime  | 2018-11-01 01:16:47 \n",
      " tpep_dropoff_datetime | 2018-11-01 01:20:22 \n",
      " trip_duration_m       | 3.5833333333333335  \n",
      " is_weekend            | Weekday             \n",
      " week_number           | 0                   \n",
      "-RECORD 6------------------------------------\n",
      " tpep_pickup_datetime  | 2018-11-01 01:08:02 \n",
      " tpep_dropoff_datetime | 2018-11-01 01:20:33 \n",
      " trip_duration_m       | 12.516666666666667  \n",
      " is_weekend            | Weekday             \n",
      " week_number           | 0                   \n",
      "-RECORD 7------------------------------------\n",
      " tpep_pickup_datetime  | 2018-11-01 01:15:12 \n",
      " tpep_dropoff_datetime | 2018-11-01 01:21:07 \n",
      " trip_duration_m       | 5.916666666666667   \n",
      " is_weekend            | Weekday             \n",
      " week_number           | 0                   \n",
      "-RECORD 8------------------------------------\n",
      " tpep_pickup_datetime  | 2018-11-01 01:14:41 \n",
      " tpep_dropoff_datetime | 2018-11-01 01:22:53 \n",
      " trip_duration_m       | 8.2                 \n",
      " is_weekend            | Weekday             \n",
      " week_number           | 0                   \n",
      "-RECORD 9------------------------------------\n",
      " tpep_pickup_datetime  | 2018-11-01 01:21:08 \n",
      " tpep_dropoff_datetime | 2018-11-01 01:23:13 \n",
      " trip_duration_m       | 2.0833333333333335  \n",
      " is_weekend            | Weekday             \n",
      " week_number           | 0                   \n",
      "-RECORD 10-----------------------------------\n",
      " tpep_pickup_datetime  | 2018-11-01 01:18:30 \n",
      " tpep_dropoff_datetime | 2018-11-01 01:24:08 \n",
      " trip_duration_m       | 5.633333333333334   \n",
      " is_weekend            | Weekday             \n",
      " week_number           | 0                   \n",
      "-RECORD 11-----------------------------------\n",
      " tpep_pickup_datetime  | 2018-11-01 01:13:56 \n",
      " tpep_dropoff_datetime | 2018-11-01 01:26:46 \n",
      " trip_duration_m       | 12.833333333333334  \n",
      " is_weekend            | Weekday             \n",
      " week_number           | 0                   \n",
      "-RECORD 12-----------------------------------\n",
      " tpep_pickup_datetime  | 2018-11-01 01:23:00 \n",
      " tpep_dropoff_datetime | 2018-11-01 01:27:06 \n",
      " trip_duration_m       | 4.1                 \n",
      " is_weekend            | Weekday             \n",
      " week_number           | 0                   \n",
      "-RECORD 13-----------------------------------\n",
      " tpep_pickup_datetime  | 2018-11-01 01:06:53 \n",
      " tpep_dropoff_datetime | 2018-11-01 01:27:26 \n",
      " trip_duration_m       | 20.55               \n",
      " is_weekend            | Weekday             \n",
      " week_number           | 0                   \n",
      "-RECORD 14-----------------------------------\n",
      " tpep_pickup_datetime  | 2018-11-01 01:19:32 \n",
      " tpep_dropoff_datetime | 2018-11-01 01:27:45 \n",
      " trip_duration_m       | 8.216666666666667   \n",
      " is_weekend            | Weekday             \n",
      " week_number           | 0                   \n",
      "-RECORD 15-----------------------------------\n",
      " tpep_pickup_datetime  | 2018-11-01 01:19:15 \n",
      " tpep_dropoff_datetime | 2018-11-01 01:28:34 \n",
      " trip_duration_m       | 9.316666666666666   \n",
      " is_weekend            | Weekday             \n",
      " week_number           | 0                   \n",
      "-RECORD 16-----------------------------------\n",
      " tpep_pickup_datetime  | 2018-11-01 01:22:55 \n",
      " tpep_dropoff_datetime | 2018-11-01 01:29:09 \n",
      " trip_duration_m       | 6.233333333333333   \n",
      " is_weekend            | Weekday             \n",
      " week_number           | 0                   \n",
      "-RECORD 17-----------------------------------\n",
      " tpep_pickup_datetime  | 2018-11-01 01:16:58 \n",
      " tpep_dropoff_datetime | 2018-11-01 01:30:24 \n",
      " trip_duration_m       | 13.433333333333334  \n",
      " is_weekend            | Weekday             \n",
      " week_number           | 0                   \n",
      "-RECORD 18-----------------------------------\n",
      " tpep_pickup_datetime  | 2018-11-01 01:22:08 \n",
      " tpep_dropoff_datetime | 2018-11-01 01:31:08 \n",
      " trip_duration_m       | 9.0                 \n",
      " is_weekend            | Weekday             \n",
      " week_number           | 0                   \n",
      "-RECORD 19-----------------------------------\n",
      " tpep_pickup_datetime  | 2018-11-01 01:22:15 \n",
      " tpep_dropoff_datetime | 2018-11-01 01:31:23 \n",
      " trip_duration_m       | 9.133333333333333   \n",
      " is_weekend            | Weekday             \n",
      " week_number           | 0                   \n",
      "only showing top 20 rows\n",
      "\n"
     ]
    }
   ],
   "source": [
    "columns_to_show = ['tpep_pickup_datetime', 'tpep_dropoff_datetime', 'trip_duration_m', 'is_weekend', 'week_number']\n",
    "df_select = df_trip.select(columns_to_show)\n",
    "df_select.show(20, vertical=True)"
   ]
  },
  {
   "cell_type": "markdown",
   "id": "a5580ea4",
   "metadata": {},
   "source": [
    "## Analyses - Answer the following 5 questions (by showing the output and and a short 1-2 sentences regarding your observation/answer) \n",
    "\n",
    "MUST Use the PySpark SQL API.\n",
    "\n",
    "DO NOT explicitly write SQL queries. Doing so will result in 50% deduction (for the question). Check lab 7.\n",
    "\n",
    "You are free to add columns if it will help in answering a question and add useful info to the dataset."
   ]
  },
  {
   "cell_type": "markdown",
   "id": "9f1696d6",
   "metadata": {},
   "source": [
    "### 1- What is the average fare amount per payment type "
   ]
  },
  {
   "cell_type": "code",
   "execution_count": 190,
   "id": "97654b5c",
   "metadata": {
    "ExecuteTime": {
     "end_time": "2023-12-10T19:38:04.240128Z",
     "start_time": "2023-12-10T19:37:50.036896Z"
    }
   },
   "outputs": [
    {
     "name": "stdout",
     "output_type": "stream",
     "text": [
      "+------------+------------------+\n",
      "|payment_type|  avg(fare_amount)|\n",
      "+------------+------------------+\n",
      "|     Unknown|13.860610648661185|\n",
      "|        Cash|12.262388189782758|\n",
      "|     Dispute| 9.084013611784446|\n",
      "|   No charge| 11.09265405199895|\n",
      "| Credit card|13.878475601016547|\n",
      "+------------+------------------+\n",
      "\n"
     ]
    }
   ],
   "source": [
    "def average_fare_per_payment_type(df, fare_column, payment_type_column):\n",
    "    return df.groupBy(payment_type_column).agg(avg(fare_column))\n",
    "\n",
    "average_fare = average_fare_per_payment_type(df_trip, 'fare_amount', 'payment_type')\n",
    "average_fare.show()"
   ]
  },
  {
   "cell_type": "markdown",
   "metadata": {},
   "source": [
    "- From the returned dataframe, we can see that 'Credit Card' payment type has the greatest fare amount. 'Dispute' payment type has the least average fare amount because it this payment type indicates an error or a problem and that is not the default."
   ]
  },
  {
   "cell_type": "markdown",
   "id": "281874a7",
   "metadata": {},
   "source": [
    "### 2- Do people tend to go on a longer trips during the weekend or weekdays?"
   ]
  },
  {
   "cell_type": "code",
   "execution_count": 191,
   "id": "cc06dacb",
   "metadata": {
    "ExecuteTime": {
     "end_time": "2023-12-10T19:38:12.744206Z",
     "start_time": "2023-12-10T19:38:04.244809Z"
    }
   },
   "outputs": [
    {
     "name": "stdout",
     "output_type": "stream",
     "text": [
      "+----------+------------------+\n",
      "|is_weekend|avg(trip_distance)|\n",
      "+----------+------------------+\n",
      "|   Weekday| 2.915725545876754|\n",
      "|   Weekend|2.9960711354081933|\n",
      "+----------+------------------+\n",
      "\n"
     ]
    }
   ],
   "source": [
    "def average_trip_distance(df, trip_distance_column):\n",
    "    return df.groupBy('is_weekend').agg(avg(trip_distance_column))\n",
    "\n",
    "average_distance = average_trip_distance(df_trip, 'trip_distance')\n",
    "average_distance.show()"
   ]
  },
  {
   "cell_type": "markdown",
   "metadata": {},
   "source": [
    "- From the returned dataframe, we can see that the longer trips are on the weekend. This might be because on weekends, people travel alot maybe to their families or to have fun and ofcourse travelling takes longer distances."
   ]
  },
  {
   "cell_type": "markdown",
   "id": "ee349df0",
   "metadata": {},
   "source": [
    "### 3 - which day recorded the most trips?"
   ]
  },
  {
   "cell_type": "code",
   "execution_count": 192,
   "id": "4427c9ee",
   "metadata": {
    "ExecuteTime": {
     "end_time": "2023-12-10T19:38:20.576373Z",
     "start_time": "2023-12-10T19:38:12.746683Z"
    }
   },
   "outputs": [
    {
     "name": "stdout",
     "output_type": "stream",
     "text": [
      "+--------------------------------+------+\n",
      "|dayofmonth(tpep_pickup_datetime)| count|\n",
      "+--------------------------------+------+\n",
      "|                               1|317424|\n",
      "|                              10|310571|\n",
      "|                              17|305864|\n",
      "|                              30|304631|\n",
      "|                               2|304128|\n",
      "|                               3|298181|\n",
      "|                               8|298057|\n",
      "|                              14|297835|\n",
      "|                               9|296721|\n",
      "|                              29|295487|\n",
      "|                              16|293873|\n",
      "|                               7|288293|\n",
      "|                              13|285771|\n",
      "|                              28|283042|\n",
      "|                              20|277449|\n",
      "|                              27|277188|\n",
      "|                               6|275989|\n",
      "|                               5|268468|\n",
      "|                              11|268139|\n",
      "|                              18|266259|\n",
      "|                               4|264176|\n",
      "|                              21|261765|\n",
      "|                              12|258327|\n",
      "|                              19|254259|\n",
      "|                              26|253850|\n",
      "|                              15|234507|\n",
      "|                              24|224630|\n",
      "|                              25|212076|\n",
      "|                              23|193376|\n",
      "|                              22|177714|\n",
      "|                              31|    80|\n",
      "+--------------------------------+------+\n",
      "\n"
     ]
    }
   ],
   "source": [
    "def day_with_most_trips(df, date_column):\n",
    "    return df.groupby(dayofmonth(df.tpep_pickup_datetime)).count().orderBy(col(\"count\").desc())\n",
    "\n",
    "day_most_trips = day_with_most_trips(df_trip, 'tpep_pickup_datetime')\n",
    "day_most_trips.show(31)"
   ]
  },
  {
   "cell_type": "markdown",
   "metadata": {},
   "source": [
    "- From the returned dataframe, we can see that day 1 of the month has the most trips, while day 31 of the month has only 80 trips."
   ]
  },
  {
   "cell_type": "markdown",
   "id": "f8dc3e82",
   "metadata": {},
   "source": [
    "### 4- What is the average \"total amount\" of trips with more than 2 passengers?"
   ]
  },
  {
   "cell_type": "code",
   "execution_count": 193,
   "id": "4ceebb49",
   "metadata": {
    "ExecuteTime": {
     "end_time": "2023-12-10T19:38:30.607556Z",
     "start_time": "2023-12-10T19:38:20.580087Z"
    }
   },
   "outputs": [
    {
     "name": "stdout",
     "output_type": "stream",
     "text": [
      "+-----------------+\n",
      "|avg(total_amount)|\n",
      "+-----------------+\n",
      "|16.84797117923915|\n",
      "+-----------------+\n",
      "\n"
     ]
    }
   ],
   "source": [
    "def average_total_amount(df, total_amount_column, passenger_count_column):\n",
    "    return df.filter(col(passenger_count_column) > 2).agg(avg(total_amount_column))\n",
    "\n",
    "average_amount = average_total_amount(df_trip, 'total_amount', 'passenger_count')\n",
    "average_amount.show()"
   ]
  },
  {
   "cell_type": "markdown",
   "metadata": {},
   "source": [
    "- From the returned dataframe, we can see that the average total amount form trips with more than 2 passengers is 16.847. That means that on average, each person will pay 5.61 at most if 3 persons are riding the taxi."
   ]
  },
  {
   "cell_type": "markdown",
   "id": "d090c1af",
   "metadata": {},
   "source": [
    "### 5- On average, when is it more likely that the tip is higher, when there are multiple passengers or just 1.?"
   ]
  },
  {
   "cell_type": "code",
   "execution_count": 194,
   "id": "56ea2ad5",
   "metadata": {
    "ExecuteTime": {
     "end_time": "2023-12-10T19:38:41.722755Z",
     "start_time": "2023-12-10T19:38:30.611500Z"
    }
   },
   "outputs": [
    {
     "name": "stdout",
     "output_type": "stream",
     "text": [
      "+------------------+--------------+\n",
      "|       average_tip|passenger_type|\n",
      "+------------------+--------------+\n",
      "|1.9386926330778256|        Single|\n",
      "|1.9126559300393196|      Multiple|\n",
      "+------------------+--------------+\n",
      "\n"
     ]
    }
   ],
   "source": [
    "def average_tip(df, tip_column, passenger_count_column):\n",
    "    df_single = df.filter(col(passenger_count_column) == 1).agg(avg(tip_column).alias('average_tip'))\n",
    "    df_single = df_single.withColumn('passenger_type', lit('Single'))\n",
    "\n",
    "    df_multiple = df.filter(col(passenger_count_column) > 1).agg(avg(tip_column).alias('average_tip'))\n",
    "    df_multiple = df_multiple.withColumn('passenger_type', lit('Multiple'))\n",
    "\n",
    "    return df_single.union(df_multiple)\n",
    "\n",
    "average_tip = average_tip(df_trip, 'tip_amount', 'passenger_count')\n",
    "average_tip.show()"
   ]
  },
  {
   "cell_type": "markdown",
   "metadata": {},
   "source": [
    "- From the returned dataframe, we can see that the tip amount is almost the same for single or multiple passengers."
   ]
  },
  {
   "cell_type": "markdown",
   "id": "ee83fe0b",
   "metadata": {},
   "source": [
    "### 6- What is the most frequent route on the weekend. "
   ]
  },
  {
   "cell_type": "code",
   "execution_count": 195,
   "id": "448ae113",
   "metadata": {
    "ExecuteTime": {
     "end_time": "2023-12-10T19:38:50.969381Z",
     "start_time": "2023-12-10T19:38:41.725645Z"
    }
   },
   "outputs": [
    {
     "name": "stdout",
     "output_type": "stream",
     "text": [
      "+--------------------+--------------------+----------+\n",
      "|         pu_location|         do_location|trip_count|\n",
      "+--------------------+--------------------+----------+\n",
      "|Manhattan,Upper E...|Manhattan,Upper E...|     10868|\n",
      "+--------------------+--------------------+----------+\n",
      "only showing top 1 row\n",
      "\n"
     ]
    }
   ],
   "source": [
    "def most_frequent_route(df, pickup_column, dropoff_column, date_column):\n",
    "    df = df.filter((df.pu_location != 'Unknown') & (df.do_location != 'Unknown'))\n",
    "    return df.filter(date_format(col(date_column), 'E').isin(['Sat', 'Sun'])) \\\n",
    "             .groupBy(pickup_column, dropoff_column) \\\n",
    "             .agg(count('*').alias('trip_count')) \\\n",
    "             .orderBy('trip_count', ascending=False)\n",
    "\n",
    "most_frequent_route = most_frequent_route(df_trip, 'pu_location', 'do_location', 'tpep_pickup_datetime')\n",
    "most_frequent_route.show(1)"
   ]
  },
  {
   "cell_type": "markdown",
   "metadata": {},
   "source": [
    "- From the returned dataframe, we can see that Manhattan trips are the most frequent route."
   ]
  },
  {
   "cell_type": "markdown",
   "id": "dfd702ec",
   "metadata": {},
   "source": [
    "## Encoding\n",
    "- Label encode all categorical fetaures.\n",
    "- Create a lookup table for these label encoded features. You can use the same format/example as the lookup table in Milestone 1 description.\n",
    "\n",
    "(You are allowed to store and manipulate the lookup table as a pandas dataframe, it does not have to be a PySpark df).\n",
    "- Remove the original unencoded categorical features from the df after encoding."
   ]
  },
  {
   "cell_type": "code",
   "execution_count": 196,
   "id": "changed-chair",
   "metadata": {
    "ExecuteTime": {
     "end_time": "2023-12-10T19:39:01.671692Z",
     "start_time": "2023-12-10T19:38:50.972285Z"
    }
   },
   "outputs": [
    {
     "name": "stdout",
     "output_type": "stream",
     "text": [
      "-RECORD 0----------------------------------\n",
      " vendor             | Creative Mobile T... \n",
      " rate_type          | Standard rate        \n",
      " store_and_fwd_flag | N                    \n",
      " pu_location        | Manhattan,East Ha... \n",
      " do_location        | Manhattan,Central... \n",
      " payment_type       | Unknown              \n",
      " is_weekend         | Weekday              \n",
      "-RECORD 1----------------------------------\n",
      " vendor             | Creative Mobile T... \n",
      " rate_type          | Standard rate        \n",
      " store_and_fwd_flag | N                    \n",
      " pu_location        | Manhattan,Gramercy   \n",
      " do_location        | Manhattan,Gramercy   \n",
      " payment_type       | Credit card          \n",
      " is_weekend         | Weekday              \n",
      "-RECORD 2----------------------------------\n",
      " vendor             | VeriFone Inc.        \n",
      " rate_type          | Standard rate        \n",
      " store_and_fwd_flag | N                    \n",
      " pu_location        | Manhattan,Times S... \n",
      " do_location        | Manhattan,Manhatt... \n",
      " payment_type       | Credit card          \n",
      " is_weekend         | Weekday              \n",
      "-RECORD 3----------------------------------\n",
      " vendor             | Creative Mobile T... \n",
      " rate_type          | Standard rate        \n",
      " store_and_fwd_flag | N                    \n",
      " pu_location        | Manhattan,Gramercy   \n",
      " do_location        | Manhattan,Murray ... \n",
      " payment_type       | Credit card          \n",
      " is_weekend         | Weekday              \n",
      "-RECORD 4----------------------------------\n",
      " vendor             | VeriFone Inc.        \n",
      " rate_type          | Standard rate        \n",
      " store_and_fwd_flag | N                    \n",
      " pu_location        | Manhattan,Midtown... \n",
      " do_location        | Queens,Astoria       \n",
      " payment_type       | Credit card          \n",
      " is_weekend         | Weekday              \n",
      "-RECORD 5----------------------------------\n",
      " vendor             | VeriFone Inc.        \n",
      " rate_type          | Standard rate        \n",
      " store_and_fwd_flag | N                    \n",
      " pu_location        | Manhattan,Manhatt... \n",
      " do_location        | Manhattan,Manhatt... \n",
      " payment_type       | Cash                 \n",
      " is_weekend         | Weekday              \n",
      "-RECORD 6----------------------------------\n",
      " vendor             | Creative Mobile T... \n",
      " rate_type          | Standard rate        \n",
      " store_and_fwd_flag | N                    \n",
      " pu_location        | Manhattan,SoHo       \n",
      " do_location        | Manhattan,Financi... \n",
      " payment_type       | Credit card          \n",
      " is_weekend         | Weekday              \n",
      "-RECORD 7----------------------------------\n",
      " vendor             | VeriFone Inc.        \n",
      " rate_type          | Standard rate        \n",
      " store_and_fwd_flag | N                    \n",
      " pu_location        | Manhattan,Union Sq   \n",
      " do_location        | Manhattan,East Ch... \n",
      " payment_type       | Cash                 \n",
      " is_weekend         | Weekday              \n",
      "-RECORD 8----------------------------------\n",
      " vendor             | VeriFone Inc.        \n",
      " rate_type          | Standard rate        \n",
      " store_and_fwd_flag | N                    \n",
      " pu_location        | Manhattan,Lower E... \n",
      " do_location        | Manhattan,West Vi... \n",
      " payment_type       | Credit card          \n",
      " is_weekend         | Weekday              \n",
      "-RECORD 9----------------------------------\n",
      " vendor             | VeriFone Inc.        \n",
      " rate_type          | Standard rate        \n",
      " store_and_fwd_flag | N                    \n",
      " pu_location        | Manhattan,Lenox H... \n",
      " do_location        | Manhattan,Lenox H... \n",
      " payment_type       | Cash                 \n",
      " is_weekend         | Weekday              \n",
      "-RECORD 10---------------------------------\n",
      " vendor             | Creative Mobile T... \n",
      " rate_type          | Standard rate        \n",
      " store_and_fwd_flag | N                    \n",
      " pu_location        | Manhattan,Upper W... \n",
      " do_location        | Manhattan,Upper W... \n",
      " payment_type       | Unknown              \n",
      " is_weekend         | Weekday              \n",
      "-RECORD 11---------------------------------\n",
      " vendor             | VeriFone Inc.        \n",
      " rate_type          | Standard rate        \n",
      " store_and_fwd_flag | N                    \n",
      " pu_location        | Manhattan,East Vi... \n",
      " do_location        | Manhattan,West Vi... \n",
      " payment_type       | Cash                 \n",
      " is_weekend         | Weekday              \n",
      "-RECORD 12---------------------------------\n",
      " vendor             | VeriFone Inc.        \n",
      " rate_type          | Standard rate        \n",
      " store_and_fwd_flag | N                    \n",
      " pu_location        | Manhattan,Lincoln... \n",
      " do_location        | Manhattan,Lincoln... \n",
      " payment_type       | Credit card          \n",
      " is_weekend         | Weekday              \n",
      "-RECORD 13---------------------------------\n",
      " vendor             | Creative Mobile T... \n",
      " rate_type          | Standard rate        \n",
      " store_and_fwd_flag | N                    \n",
      " pu_location        | Manhattan,West Vi... \n",
      " do_location        | Manhattan,Murray ... \n",
      " payment_type       | Cash                 \n",
      " is_weekend         | Weekday              \n",
      "-RECORD 14---------------------------------\n",
      " vendor             | VeriFone Inc.        \n",
      " rate_type          | Standard rate        \n",
      " store_and_fwd_flag | N                    \n",
      " pu_location        | Manhattan,Lincoln... \n",
      " do_location        | Manhattan,Lenox H... \n",
      " payment_type       | Credit card          \n",
      " is_weekend         | Weekday              \n",
      "-RECORD 15---------------------------------\n",
      " vendor             | VeriFone Inc.        \n",
      " rate_type          | Standard rate        \n",
      " store_and_fwd_flag | N                    \n",
      " pu_location        | Manhattan,Murray ... \n",
      " do_location        | Manhattan,East Ha... \n",
      " payment_type       | Credit card          \n",
      " is_weekend         | Weekday              \n",
      "-RECORD 16---------------------------------\n",
      " vendor             | VeriFone Inc.        \n",
      " rate_type          | Standard rate        \n",
      " store_and_fwd_flag | N                    \n",
      " pu_location        | Brooklyn,Williams... \n",
      " do_location        | Brooklyn,East Wil... \n",
      " payment_type       | Credit card          \n",
      " is_weekend         | Weekday              \n",
      "-RECORD 17---------------------------------\n",
      " vendor             | Creative Mobile T... \n",
      " rate_type          | Standard rate        \n",
      " store_and_fwd_flag | N                    \n",
      " pu_location        | Manhattan,Financi... \n",
      " do_location        | Manhattan,Two Bri... \n",
      " payment_type       | Credit card          \n",
      " is_weekend         | Weekday              \n",
      "-RECORD 18---------------------------------\n",
      " vendor             | VeriFone Inc.        \n",
      " rate_type          | Standard rate        \n",
      " store_and_fwd_flag | N                    \n",
      " pu_location        | Manhattan,Flatiron   \n",
      " do_location        | Manhattan,Gramercy   \n",
      " payment_type       | Credit card          \n",
      " is_weekend         | Weekday              \n",
      "-RECORD 19---------------------------------\n",
      " vendor             | Creative Mobile T... \n",
      " rate_type          | Standard rate        \n",
      " store_and_fwd_flag | N                    \n",
      " pu_location        | Manhattan,Gramercy   \n",
      " do_location        | Manhattan,Greenwi... \n",
      " payment_type       | Unknown              \n",
      " is_weekend         | Weekday              \n",
      "only showing top 20 rows\n",
      "\n"
     ]
    }
   ],
   "source": [
    "categorical_features = [field.name for field in df_trip.schema.fields if field.dataType == StringType()]\n",
    "df_trip.select(categorical_features).show(20, vertical=True)"
   ]
  },
  {
   "cell_type": "code",
   "execution_count": 197,
   "id": "cc07c545",
   "metadata": {
    "ExecuteTime": {
     "end_time": "2023-12-10T19:41:48.530334Z",
     "start_time": "2023-12-10T19:39:01.677202Z"
    }
   },
   "outputs": [],
   "source": [
    "lookup_map = []\n",
    "def label_encode(df):\n",
    "    categorical_features = [field.name for field in df.schema.fields if field.dataType == StringType()]\n",
    "    for col in categorical_features:\n",
    "        indexer = StringIndexer(inputCol=col, outputCol=col+\"_labeled\")\n",
    "        df = indexer.fit(df).transform(df)\n",
    "        lookup_map.extend([(col, original, encoded) for original, encoded in df.select(col, col + \"_labeled\").distinct().collect()])\n",
    "        df = df.drop(col)\n",
    "        df = df.withColumnRenamed(col + \"_labeled\", col)\n",
    "    return df\n",
    "    \n",
    "df_trip = label_encode(df_trip)    \n",
    "lookup_table = spark.createDataFrame(lookup_map, ['column_name', 'original_value', 'label_after_encoding'])"
   ]
  },
  {
   "cell_type": "code",
   "execution_count": null,
   "id": "supported-eligibility",
   "metadata": {},
   "outputs": [],
   "source": []
  },
  {
   "cell_type": "code",
   "execution_count": null,
   "id": "0177519e",
   "metadata": {},
   "outputs": [],
   "source": []
  },
  {
   "cell_type": "markdown",
   "id": "7a810bca",
   "metadata": {},
   "source": [
    "### Preview first 20 rows of the label encoded features"
   ]
  },
  {
   "cell_type": "code",
   "execution_count": 198,
   "id": "54de3b3e",
   "metadata": {
    "ExecuteTime": {
     "end_time": "2023-12-10T19:41:59.654999Z",
     "start_time": "2023-12-10T19:41:48.534047Z"
    }
   },
   "outputs": [
    {
     "name": "stdout",
     "output_type": "stream",
     "text": [
      "-RECORD 0------------------\n",
      " vendor             | 1.0  \n",
      " rate_type          | 0.0  \n",
      " store_and_fwd_flag | 0.0  \n",
      " pu_location        | 43.0 \n",
      " do_location        | 47.0 \n",
      " payment_type       | 2.0  \n",
      " is_weekend         | 0.0  \n",
      "-RECORD 1------------------\n",
      " vendor             | 1.0  \n",
      " rate_type          | 0.0  \n",
      " store_and_fwd_flag | 0.0  \n",
      " pu_location        | 16.0 \n",
      " do_location        | 17.0 \n",
      " payment_type       | 0.0  \n",
      " is_weekend         | 0.0  \n",
      "-RECORD 2------------------\n",
      " vendor             | 0.0  \n",
      " rate_type          | 0.0  \n",
      " store_and_fwd_flag | 0.0  \n",
      " pu_location        | 4.0  \n",
      " do_location        | 39.0 \n",
      " payment_type       | 0.0  \n",
      " is_weekend         | 0.0  \n",
      "-RECORD 3------------------\n",
      " vendor             | 1.0  \n",
      " rate_type          | 0.0  \n",
      " store_and_fwd_flag | 0.0  \n",
      " pu_location        | 16.0 \n",
      " do_location        | 4.0  \n",
      " payment_type       | 0.0  \n",
      " is_weekend         | 0.0  \n",
      "-RECORD 4------------------\n",
      " vendor             | 0.0  \n",
      " rate_type          | 0.0  \n",
      " store_and_fwd_flag | 0.0  \n",
      " pu_location        | 5.0  \n",
      " do_location        | 54.0 \n",
      " payment_type       | 0.0  \n",
      " is_weekend         | 0.0  \n",
      "-RECORD 5------------------\n",
      " vendor             | 0.0  \n",
      " rate_type          | 0.0  \n",
      " store_and_fwd_flag | 0.0  \n",
      " pu_location        | 39.0 \n",
      " do_location        | 39.0 \n",
      " payment_type       | 1.0  \n",
      " is_weekend         | 0.0  \n",
      "-RECORD 6------------------\n",
      " vendor             | 1.0  \n",
      " rate_type          | 0.0  \n",
      " store_and_fwd_flag | 0.0  \n",
      " pu_location        | 42.0 \n",
      " do_location        | 46.0 \n",
      " payment_type       | 0.0  \n",
      " is_weekend         | 0.0  \n",
      "-RECORD 7------------------\n",
      " vendor             | 0.0  \n",
      " rate_type          | 0.0  \n",
      " store_and_fwd_flag | 0.0  \n",
      " pu_location        | 9.0  \n",
      " do_location        | 14.0 \n",
      " payment_type       | 1.0  \n",
      " is_weekend         | 0.0  \n",
      "-RECORD 8------------------\n",
      " vendor             | 0.0  \n",
      " rate_type          | 0.0  \n",
      " store_and_fwd_flag | 0.0  \n",
      " pu_location        | 35.0 \n",
      " do_location        | 24.0 \n",
      " payment_type       | 0.0  \n",
      " is_weekend         | 0.0  \n",
      "-RECORD 9------------------\n",
      " vendor             | 0.0  \n",
      " rate_type          | 0.0  \n",
      " store_and_fwd_flag | 0.0  \n",
      " pu_location        | 25.0 \n",
      " do_location        | 11.0 \n",
      " payment_type       | 1.0  \n",
      " is_weekend         | 0.0  \n",
      "-RECORD 10-----------------\n",
      " vendor             | 1.0  \n",
      " rate_type          | 0.0  \n",
      " store_and_fwd_flag | 0.0  \n",
      " pu_location        | 11.0 \n",
      " do_location        | 13.0 \n",
      " payment_type       | 2.0  \n",
      " is_weekend         | 0.0  \n",
      "-RECORD 11-----------------\n",
      " vendor             | 0.0  \n",
      " rate_type          | 0.0  \n",
      " store_and_fwd_flag | 0.0  \n",
      " pu_location        | 13.0 \n",
      " do_location        | 24.0 \n",
      " payment_type       | 1.0  \n",
      " is_weekend         | 0.0  \n",
      "-RECORD 12-----------------\n",
      " vendor             | 0.0  \n",
      " rate_type          | 0.0  \n",
      " store_and_fwd_flag | 0.0  \n",
      " pu_location        | 6.0  \n",
      " do_location        | 6.0  \n",
      " payment_type       | 0.0  \n",
      " is_weekend         | 0.0  \n",
      "-RECORD 13-----------------\n",
      " vendor             | 1.0  \n",
      " rate_type          | 0.0  \n",
      " store_and_fwd_flag | 0.0  \n",
      " pu_location        | 21.0 \n",
      " do_location        | 4.0  \n",
      " payment_type       | 1.0  \n",
      " is_weekend         | 0.0  \n",
      "-RECORD 14-----------------\n",
      " vendor             | 0.0  \n",
      " rate_type          | 0.0  \n",
      " store_and_fwd_flag | 0.0  \n",
      " pu_location        | 6.0  \n",
      " do_location        | 11.0 \n",
      " payment_type       | 0.0  \n",
      " is_weekend         | 0.0  \n",
      "-RECORD 15-----------------\n",
      " vendor             | 0.0  \n",
      " rate_type          | 0.0  \n",
      " store_and_fwd_flag | 0.0  \n",
      " pu_location        | 8.0  \n",
      " do_location        | 33.0 \n",
      " payment_type       | 0.0  \n",
      " is_weekend         | 0.0  \n",
      "-RECORD 16-----------------\n",
      " vendor             | 0.0  \n",
      " rate_type          | 0.0  \n",
      " store_and_fwd_flag | 0.0  \n",
      " pu_location        | 68.0 \n",
      " do_location        | 73.0 \n",
      " payment_type       | 0.0  \n",
      " is_weekend         | 0.0  \n",
      "-RECORD 17-----------------\n",
      " vendor             | 1.0  \n",
      " rate_type          | 0.0  \n",
      " store_and_fwd_flag | 0.0  \n",
      " pu_location        | 44.0 \n",
      " do_location        | 51.0 \n",
      " payment_type       | 0.0  \n",
      " is_weekend         | 0.0  \n",
      "-RECORD 18-----------------\n",
      " vendor             | 0.0  \n",
      " rate_type          | 0.0  \n",
      " store_and_fwd_flag | 0.0  \n",
      " pu_location        | 26.0 \n",
      " do_location        | 17.0 \n",
      " payment_type       | 0.0  \n",
      " is_weekend         | 0.0  \n",
      "-RECORD 19-----------------\n",
      " vendor             | 1.0  \n",
      " rate_type          | 0.0  \n",
      " store_and_fwd_flag | 0.0  \n",
      " pu_location        | 16.0 \n",
      " do_location        | 32.0 \n",
      " payment_type       | 2.0  \n",
      " is_weekend         | 0.0  \n",
      "only showing top 20 rows\n",
      "\n"
     ]
    }
   ],
   "source": [
    "df_trip.select(categorical_features).show(20, vertical=True)"
   ]
  },
  {
   "cell_type": "code",
   "execution_count": null,
   "id": "640874a3",
   "metadata": {},
   "outputs": [],
   "source": []
  },
  {
   "cell_type": "markdown",
   "id": "547d8fc3",
   "metadata": {},
   "source": [
    "### Preview first 20 rows of your lookup table"
   ]
  },
  {
   "cell_type": "code",
   "execution_count": 199,
   "id": "0e8374f2",
   "metadata": {
    "ExecuteTime": {
     "end_time": "2023-12-10T19:41:59.786271Z",
     "start_time": "2023-12-10T19:41:59.656820Z"
    }
   },
   "outputs": [
    {
     "name": "stdout",
     "output_type": "stream",
     "text": [
      "-RECORD 0------------------------------------\n",
      " column_name          | vendor               \n",
      " original_value       | Creative Mobile T... \n",
      " label_after_encoding | 1.0                  \n",
      "-RECORD 1------------------------------------\n",
      " column_name          | vendor               \n",
      " original_value       | VeriFone Inc.        \n",
      " label_after_encoding | 0.0                  \n",
      "-RECORD 2------------------------------------\n",
      " column_name          | vendor               \n",
      " original_value       | Unknown              \n",
      " label_after_encoding | 2.0                  \n",
      "-RECORD 3------------------------------------\n",
      " column_name          | rate_type            \n",
      " original_value       | JFK                  \n",
      " label_after_encoding | 1.0                  \n",
      "-RECORD 4------------------------------------\n",
      " column_name          | rate_type            \n",
      " original_value       | Standard rate        \n",
      " label_after_encoding | 0.0                  \n",
      "-RECORD 5------------------------------------\n",
      " column_name          | rate_type            \n",
      " original_value       | Newark               \n",
      " label_after_encoding | 3.0                  \n",
      "-RECORD 6------------------------------------\n",
      " column_name          | rate_type            \n",
      " original_value       | Negotiated fare      \n",
      " label_after_encoding | 2.0                  \n",
      "-RECORD 7------------------------------------\n",
      " column_name          | rate_type            \n",
      " original_value       | Group ride           \n",
      " label_after_encoding | 6.0                  \n",
      "-RECORD 8------------------------------------\n",
      " column_name          | rate_type            \n",
      " original_value       | Nassau or Westche... \n",
      " label_after_encoding | 5.0                  \n",
      "-RECORD 9------------------------------------\n",
      " column_name          | rate_type            \n",
      " original_value       | Unknown              \n",
      " label_after_encoding | 4.0                  \n",
      "-RECORD 10-----------------------------------\n",
      " column_name          | store_and_fwd_flag   \n",
      " original_value       | Y                    \n",
      " label_after_encoding | 1.0                  \n",
      "-RECORD 11-----------------------------------\n",
      " column_name          | store_and_fwd_flag   \n",
      " original_value       | N                    \n",
      " label_after_encoding | 0.0                  \n",
      "-RECORD 12-----------------------------------\n",
      " column_name          | store_and_fwd_flag   \n",
      " original_value       | Unknown              \n",
      " label_after_encoding | 2.0                  \n",
      "-RECORD 13-----------------------------------\n",
      " column_name          | pu_location          \n",
      " original_value       | Manhattan,Highbri... \n",
      " label_after_encoding | 229.0                \n",
      "-RECORD 14-----------------------------------\n",
      " column_name          | pu_location          \n",
      " original_value       | Manhattan,Upper W... \n",
      " label_after_encoding | 11.0                 \n",
      "-RECORD 15-----------------------------------\n",
      " column_name          | pu_location          \n",
      " original_value       | Queens,Rockaway Park \n",
      " label_after_encoding | 236.0                \n",
      "-RECORD 16-----------------------------------\n",
      " column_name          | pu_location          \n",
      " original_value       | Manhattan,Lenox H... \n",
      " label_after_encoding | 15.0                 \n",
      "-RECORD 17-----------------------------------\n",
      " column_name          | pu_location          \n",
      " original_value       | Queens,Springfiel... \n",
      " label_after_encoding | 107.0                \n",
      "-RECORD 18-----------------------------------\n",
      " column_name          | pu_location          \n",
      " original_value       | Brooklyn,Sunset P... \n",
      " label_after_encoding | 112.0                \n",
      "-RECORD 19-----------------------------------\n",
      " column_name          | pu_location          \n",
      " original_value       | Queens,Howard Beach  \n",
      " label_after_encoding | 179.0                \n",
      "only showing top 20 rows\n",
      "\n"
     ]
    }
   ],
   "source": [
    "lookup_table.show(20, vertical=True)"
   ]
  },
  {
   "cell_type": "code",
   "execution_count": null,
   "id": "2b20b295",
   "metadata": {},
   "outputs": [],
   "source": []
  },
  {
   "cell_type": "markdown",
   "id": "fcdd7830",
   "metadata": {},
   "source": [
    "### Load the cleaned PySpark df to a parquet file and the lookup table to a csv file."
   ]
  },
  {
   "cell_type": "code",
   "execution_count": 200,
   "id": "90fbdb44",
   "metadata": {
    "ExecuteTime": {
     "end_time": "2023-12-10T19:43:33.103214Z",
     "start_time": "2023-12-10T19:41:59.788015Z"
    }
   },
   "outputs": [],
   "source": [
    "if not os.path.isdir(\"yellow_trip_data_2018-11clean.parquet\"):\n",
    "    df_trip.write.parquet(\"yellow_trip_data_2018-11clean.parquet\")"
   ]
  },
  {
   "cell_type": "code",
   "execution_count": 201,
   "id": "57d45165",
   "metadata": {
    "ExecuteTime": {
     "end_time": "2023-12-10T19:44:56.315625Z",
     "start_time": "2023-12-10T19:43:33.105800Z"
    }
   },
   "outputs": [],
   "source": [
    "if not os.path.isdir(\"lookup_table_yellow_taxis.csv\"):\n",
    "    df_trip.write.csv(\"lookup_table_yellow_taxis.csv\")"
   ]
  },
  {
   "cell_type": "markdown",
   "id": "846f97ac",
   "metadata": {},
   "source": [
    "## Bonus - Load the cleaned parquet file and lookup table into a Postgres database. \n",
    "\n",
    "Note that if you decide to do the bonus, you must include not only your notebook but the docker-compose.yaml file aswell."
   ]
  },
  {
   "cell_type": "code",
   "execution_count": null,
   "id": "f0334636",
   "metadata": {},
   "outputs": [],
   "source": []
  },
  {
   "cell_type": "code",
   "execution_count": null,
   "id": "b1ef76b5",
   "metadata": {},
   "outputs": [],
   "source": []
  },
  {
   "cell_type": "markdown",
   "id": "598c8f58",
   "metadata": {},
   "source": [
    "### Screenshot of the table existing in the database and a simple query such as `select count(*) from table_name` or `select * from table_name limit 10`\n",
    "\n",
    "(You can just copy paste the screenshots in the markdown cells below)"
   ]
  },
  {
   "cell_type": "markdown",
   "id": "e4082ea3",
   "metadata": {},
   "source": []
  },
  {
   "cell_type": "markdown",
   "id": "d6329f74",
   "metadata": {},
   "source": []
  },
  {
   "cell_type": "markdown",
   "id": "e30ecdbd",
   "metadata": {},
   "source": []
  }
 ],
 "metadata": {
  "kernelspec": {
   "display_name": "Python 3",
   "language": "python",
   "name": "python3"
  },
  "language_info": {
   "codemirror_mode": {
    "name": "ipython",
    "version": 3
   },
   "file_extension": ".py",
   "mimetype": "text/x-python",
   "name": "python",
   "nbconvert_exporter": "python",
   "pygments_lexer": "ipython3",
   "version": "3.10.0"
  },
  "toc": {
   "base_numbering": 1,
   "nav_menu": {},
   "number_sections": true,
   "sideBar": true,
   "skip_h1_title": false,
   "title_cell": "Table of Contents",
   "title_sidebar": "Contents",
   "toc_cell": false,
   "toc_position": {},
   "toc_section_display": true,
   "toc_window_display": false
  }
 },
 "nbformat": 4,
 "nbformat_minor": 5
}
